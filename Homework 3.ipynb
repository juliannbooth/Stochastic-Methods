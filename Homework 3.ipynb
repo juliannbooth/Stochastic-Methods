{
 "cells": [
  {
   "cell_type": "code",
   "execution_count": 5,
   "metadata": {
    "collapsed": false
   },
   "outputs": [
    {
     "data": {
      "text/plain": [
       "<function __main__.ltxmtx>"
      ]
     },
     "execution_count": 5,
     "metadata": {},
     "output_type": "execute_result"
    }
   ],
   "source": [
    "#header\n",
    "from IPython.display import display, Latex, Math, Markdown\n",
    "import numpy as np\n",
    "import sympy as sym\n",
    "import matplotlib.pyplot as plt\n",
    "from __future__ import division #needed to use fractions without specifying floats\n",
    "from fractions import gcd #to use gcd in cook's code\n",
    "\n",
    "sym.init_printing()\n",
    "def printltx(s):\n",
    "   try: \n",
    "       display(Latex(s))\n",
    "   except: \n",
    "       print(s)\n",
    "def ltxmtx(A, axis = 1):\n",
    "       try: \n",
    "           if isinstance(A, np.ndarray):\n",
    "               A = A.round(4)\n",
    "           M = sym.Matrix(A)\n",
    "           sh = np.array(M.shape)\n",
    "           sz = np.prod(sh)\n",
    "           if sz == np.max(sh):\n",
    "               if axis == 0:\n",
    "                   M=M.reshape(sz,1)\n",
    "               else:\n",
    "                   M=M.reshape(1,sz)\n",
    "           return \" $\"+ sym.latex(M) + \"$ \"\n",
    "       except: \n",
    "           return A\n",
    "       \n",
    "array_f = get_ipython().display_formatter.formatters['text/latex']\n",
    "array_f.for_type('numpy.ndarray',ltxmtx)\n",
    "array_f.for_type('sympy.matrices.dense.MutableDenseMatrix', ltxmtx)"
   ]
  },
  {
   "cell_type": "code",
   "execution_count": 6,
   "metadata": {
    "collapsed": false
   },
   "outputs": [],
   "source": [
    "def support(v):\n",
    "    return np.nonzero(v)[0]    \n",
    "\n",
    "def normalize_vec(v):\n",
    "    tol = 0.001\n",
    "    s = np.sum(v)\n",
    "    if np.abs(s)<tol:\n",
    "        s = v[support(v)][0] #if row sums to 0, divide by leftmost nonzero entry    \n",
    "    return v/s\n",
    "\n",
    "def normalize_rows(P):\n",
    "    return np.apply_along_axis(normalize_vec,1,P)\n",
    "    \n",
    "def eigen_future(P,phi):\n",
    "    \"\"\"\n",
    "    Long term behavior via eigenvectors and eigenvalues\n",
    "    \"\"\"\n",
    "    States = P.shape[0]\n",
    "    print(\"\\n\")\n",
    "    printltx(r\"Using eigenvectors and eigenvalues to find long term behavior.\")\n",
    "    (evals,LT) = np.linalg.eig(P.T)\n",
    "    L = LT.T    \n",
    "    \n",
    "    #We'd like to sort things nicely.  First, we want to sort by eval length, largest first.\n",
    "    #Then we'll break ties by real part, largest first\n",
    "    #Then we'll break ties by imaginary part, largest first\n",
    "    #Finally, we'll break ties by the smallest label on states in the support of the corresponding evec, smallest first.\n",
    "    #This sort is basically optional - it just makes the results a bit easier to interpret.\n",
    "    Len = np.abs(evals).round(4) #Must round, else evals of same true legnth may appear to be of different lengths    \n",
    "    Re = np.real(evals).round(4)\n",
    "    Im = np.imag(evals).round(4)    \n",
    "    Fs = [States-support(v)[0] for v in L] #Gets the smallest label of states in the support of the evec.\n",
    "    #We do use \"States-___\", because we will reverse everything below, but we want smallest first on this part.\n",
    "    sort = np.lexsort([Fs,Im,Re,Len]) #sort priority goes right to left, for some reason\n",
    "    sort = sort[::-1] #lexsort does ascending sort.  This changes to descending, as desired\n",
    "    evals = evals[sort]\n",
    "    L = L[sort]\n",
    "    Len = Len[sort]\n",
    "    Re = Re[sort]\n",
    "    Im = Im[sort]\n",
    "    \n",
    "    L = normalize_rows(L)\n",
    "    R = np.linalg.inv(L)\n",
    "    D = np.diag(evals)\n",
    "    printltx(r\"left eigenvectors = rows of \"+ltxmtx(L)+\",  $\\lambda =$\"+ltxmtx(evals,0)+\",  $| \\lambda | =$\"+ltxmtx(np.abs(evals),0))\n",
    "\n",
    "    evals_live = evals.copy()\n",
    "    evals_live[Len<1] = 0    \n",
    "    vanish = L[Len<1]\n",
    "    invar = L[Re>=1]\n",
    "    persist = L[(Len>=1) & (Re<1)]\n",
    "    \n",
    "    num_rec_classes = invar.shape[0]\n",
    "    states_in_rec_class = [support(pi).tolist() for pi in invar]\n",
    "    persist_in_rec_class = [[] for r in invar]\n",
    "    for (p,vec) in enumerate(persist):\n",
    "        for cl,st in enumerate(states_in_rec_class):\n",
    "            if set(support(vec)).issubset(set(st)):\n",
    "                persist_in_rec_class[cl].append(p)\n",
    "                break\n",
    "    period_of_rec_class = [1+len(per) for per in persist_in_rec_class]\n",
    "\n",
    "    recurrent_states = np.hstack(states_in_rec_class)\n",
    "    all_states = set(range(States))    \n",
    "    transient_states = all_states - set(recurrent_states)\n",
    "    transient_states = np.array(sorted(transient_states),dtype=int)\n",
    "    num_recurrent_states = len(recurrent_states)\n",
    "    num_transient_states = len(transient_states)    \n",
    "\n",
    "    for (cl,states) in enumerate(states_in_rec_class):\n",
    "        period = period_of_rec_class[cl]\n",
    "        print(\"\\n\\n\")\n",
    "        printltx(r\"Recurrence Class \"+str(cl))\n",
    "        printltx(r\"States = \"+ltxmtx(states))        \n",
    "        printltx(\"Period = \"+str(period))\n",
    "        printltx(r\"The stationary/invariant distribution for this recurrence class is:\")\n",
    "        printltx(r\"$\\vec{\\pi} = $\"+ltxmtx(invar[cl]))\n",
    "        if period > 1:\n",
    "            printltx(\"Other persistent eigenvectors for this recurrence class are:\")\n",
    "            for per in persist_in_rec_class[cl]:\n",
    "                printltx(r\"$\\vec{v} = $\"+ltxmtx(persist[per]))    \n",
    "    print(\"\\n\\n\")\n",
    "    printltx(r\"Transient States\")\n",
    "    printltx(r\"States \"+ltxmtx(transient_states))\n",
    "    if vanish.shape[0]>0:\n",
    "        printltx(r\"Vanishing eigenvectors are:\")\n",
    "        for v in vanish:\n",
    "            printltx(r\"$\\vec{v} = $\"+ltxmtx(v))\n",
    "\n",
    "    if num_rec_classes == 1:\n",
    "        period_of_chain = period_of_rec_class[0]\n",
    "    else:\n",
    "        gcd_periods = reduce(gcd,period_of_rec_class)\n",
    "        period_of_chain = int(np.prod(period_of_rec_class)/gcd_periods)        \n",
    "    \n",
    "    pdf = np.zeros([period_of_chain,States])\n",
    "    Dp = np.diag(evals_live)    \n",
    "    for step in range(period_of_chain):\n",
    "        pdf[step,:] = phi.dot(R).dot(Dp**(step+1)).dot(L)\n",
    "    printltx(r\"The analysis via eigenvectors says that, in the long run, this system should osciliate through the \"+str(period_of_chain)+\" distributions below.\")\n",
    "    display(pdf)\n",
    "    printltx(r\"The average of these distributions is \"+ltxmtx(np.mean(pdf,0)))\n",
    "\n",
    "    perm = np.hstack([recurrent_states,transient_states])    \n",
    "    Pbar = P.copy()\n",
    "    Pbar = Pbar[perm,:]\n",
    "    Pbar = Pbar[:,perm]    \n",
    "    \n",
    "    R = Pbar[:num_recurrent_states:,:num_recurrent_states]\n",
    "    S = Pbar[num_recurrent_states:,:num_recurrent_states]\n",
    "    Q = Pbar[num_recurrent_states:,num_recurrent_states:]\n",
    "    Z = Pbar[:num_recurrent_states,num_recurrent_states:]\n",
    "    \n",
    "    I = np.eye(Q.shape[0])\n",
    "    M = np.linalg.inv(I-Q)\n",
    "    WhenAbsorbed = np.sum(M,axis=1)\n",
    "    WhereAbsorbed = M.dot(S)\n",
    "    WhereAbsorbedContracted = np.zeros([num_transient_states,num_rec_classes])\n",
    "    start = 0\n",
    "    end = 0\n",
    "    for (cl,states) in enumerate(states_in_rec_class):\n",
    "        start = end\n",
    "        end += len(states)\n",
    "        WhereAbsorbedContracted[:,cl] = np.sum(WhereAbsorbed[:,start:end],axis=1)\n",
    "    \n",
    "    print(\"\\n\\n\")\n",
    "    printltx(r\"Now we relabel the states so that recurrence classes are together and transient states are last.\")\n",
    "    printltx(r\"Here is the relabelling \"+ltxmtx(perm,0)+\" $\\mapsto$ \"+ltxmtx(np.arange(States),0))\n",
    "    printltx(r\"This permutes the rows and columns of $P$ into $\\bar{P}=$ \"+ltxmtx(Pbar))\n",
    "    printltx(r\"The following top, left submatrix corresponds to recurrent $\\to$ recurrent transitions $R=$ \"+ltxmtx(R))\n",
    "    printltx(r\"The following bottom, left submatrix corresponds to transient $\\to$ recurrent transitions $S=$ \"+ltxmtx(S))\n",
    "    printltx(r\"The following bottom, right submatrix corresponds to transient $\\to$ transient transitions $Q=$ \"+ltxmtx(Q))\n",
    "    printltx(r\"The following top, right submatrix corresponds to recurrent $\\to$ transient transitions $Z=$ \"+ltxmtx(Z))\n",
    "    printltx(r\"The matrix directly above had better contain all zeros.\")\n",
    "    printltx(r\"As stated in Lawler, we compute $M=(I-Q)^{-1}=$ \"+ltxmtx(M))\n",
    "    printltx(r\"The $(i,j)$ entry of $M$ is the expected number of visits to state $j+\"+str(num_recurrent_states)+\"$ (transient) if chain starts at state $i+\"+str(num_recurrent_states)+\"$ (transient).\")\n",
    "    printltx(r\"So the sum across row $i$ is the expected absorption time if chain starts at state $i$\")\n",
    "    printltx(r\"I compute these expected absorption times to be \"+ltxmtx(WhenAbsorbed,0))\n",
    "    printltx(r\"Now, for absorption probabilities.  As stated in Lawler, the $(i,j)$ entry of $MS$ is the probability of absorption at state $j$ (recurrent) if chain starts at state $i+\"+str(num_recurrent_states)+\"$ (transient).\")\n",
    "    printltx(r\"I compute these absorption probabilities to be \"+ltxmtx(WhereAbsorbed))\n",
    "    printltx(r\"If we contract recurrent classes, this becomes\"+ltxmtx(WhereAbsorbedContracted))\n",
    "    printltx(r\"Where the $(i,j)$ entry is the probability of absorption into recurrence class $j$ if chain starts if chain starts at state $i+\"+str(num_recurrent_states)+\"$ (transient).\")\n",
    "    return "
   ]
  },
  {
   "cell_type": "code",
   "execution_count": 7,
   "metadata": {
    "collapsed": false
   },
   "outputs": [
    {
     "data": {
      "text/latex": [
       "$P = $ $\\left[\\begin{matrix}0.0 & 0.5 & 0.0 & 0.5 & 0.0 & 0.0 & 0.0 & 0.0 & 0.0\\\\0.3333 & 0.0 & 0.3333 & 0.0 & 0.3333 & 0.0 & 0.0 & 0.0 & 0.0\\\\0.0 & 0.5 & 0.0 & 0.0 & 0.0 & 0.5 & 0.0 & 0.0 & 0.0\\\\0.3333 & 0.0 & 0.0 & 0.0 & 0.3333 & 0.0 & 0.3333 & 0.0 & 0.0\\\\0.0 & 0.25 & 0.0 & 0.25 & 0.0 & 0.25 & 0.0 & 0.25 & 0.0\\\\0.0 & 0.0 & 0.3333 & 0.0 & 0.3333 & 0.0 & 0.0 & 0.0 & 0.3333\\\\0.0 & 0.0 & 0.0 & 0.0 & 0.0 & 0.0 & 1.0 & 0.0 & 0.0\\\\0.0 & 0.0 & 0.0 & 0.0 & 0.3333 & 0.0 & 0.3333 & 0.0 & 0.3333\\\\0.0 & 0.0 & 0.0 & 0.0 & 0.0 & 0.0 & 0.0 & 0.0 & 1.0\\end{matrix}\\right]$ "
      ],
      "text/plain": [
       "<IPython.core.display.Latex object>"
      ]
     },
     "metadata": {},
     "output_type": "display_data"
    },
    {
     "data": {
      "text/latex": [
       "Ned begins in Room 0:"
      ],
      "text/plain": [
       "<IPython.core.display.Latex object>"
      ]
     },
     "metadata": {},
     "output_type": "display_data"
    },
    {
     "name": "stdout",
     "output_type": "stream",
     "text": [
      "\n",
      "\n"
     ]
    },
    {
     "data": {
      "text/latex": [
       "Using eigenvectors and eigenvalues to find long term behavior."
      ],
      "text/plain": [
       "<IPython.core.display.Latex object>"
      ]
     },
     "metadata": {},
     "output_type": "display_data"
    },
    {
     "data": {
      "text/latex": [
       "left eigenvectors = rows of  $\\left[\\begin{matrix}0.0 & 0.0 & 0.0 & 0.0 & 0.0 & 0.0 & 1.0 & 0.0 & 0.0\\\\0.0 & 0.0 & 0.0 & 0.0 & 0.0 & 0.0 & 0.0 & 0.0 & 1.0\\\\1.0 & 1.5946 & 1.0 & 1.0212 & 1.5616 & 1.0212 & -3.8231 & 0.4477 & -3.8231\\\\1.0 & -1.5946 & 1.0 & -1.0212 & 1.5616 & -1.0212 & 0.2616 & -0.4477 & 0.2616\\\\1.0 & 0.0 & -1.0 & 1.2247 & 0.0 & -1.2247 & -0.6899 & 0.0 & 0.6899\\\\1.0 & 0.0 & -1.0 & -1.2247 & 0.0 & 1.2247 & 0.2899 & 0.0 & -0.2899\\\\1.0 & 1.3303 & 1.0 & -0.5193 & -2.5616 & -0.5193 & 1.3194 & -2.369 & 1.3194\\\\1.0 & -1.3303 & 1.0 & 0.5193 & -2.5616 & 0.5193 & -0.7579 & 2.369 & -0.7579\\\\1.0 & -5.40864256097378 \\cdot 10^{31} & 5.0 & 5.40864256097378 \\cdot 10^{31} & 0.6667 & 5.40864256097378 \\cdot 10^{31} & 217892484253252.0 & -5.40864256097378 \\cdot 10^{31} & -8.72764092221074 \\cdot 10^{15}\\end{matrix}\\right]$ ,  $\\lambda =$ $\\left[\\begin{matrix}1.0\\\\1.0\\\\0.8719\\\\-0.8719\\\\0.4082\\\\-0.4082\\\\0.2703\\\\-0.2703\\\\0.0\\end{matrix}\\right]$ ,  $| \\lambda | =$ $\\left[\\begin{matrix}1.0\\\\1.0\\\\0.8719\\\\0.8719\\\\0.4082\\\\0.4082\\\\0.2703\\\\0.2703\\\\0.0\\end{matrix}\\right]$ "
      ],
      "text/plain": [
       "<IPython.core.display.Latex object>"
      ]
     },
     "metadata": {},
     "output_type": "display_data"
    },
    {
     "name": "stdout",
     "output_type": "stream",
     "text": [
      "\n",
      "\n",
      "\n"
     ]
    },
    {
     "data": {
      "text/latex": [
       "Recurrence Class 0"
      ],
      "text/plain": [
       "<IPython.core.display.Latex object>"
      ]
     },
     "metadata": {},
     "output_type": "display_data"
    },
    {
     "data": {
      "text/latex": [
       "States =  $\\left[\\begin{matrix}6\\end{matrix}\\right]$ "
      ],
      "text/plain": [
       "<IPython.core.display.Latex object>"
      ]
     },
     "metadata": {},
     "output_type": "display_data"
    },
    {
     "data": {
      "text/latex": [
       "Period = 1"
      ],
      "text/plain": [
       "<IPython.core.display.Latex object>"
      ]
     },
     "metadata": {},
     "output_type": "display_data"
    },
    {
     "data": {
      "text/latex": [
       "The stationary/invariant distribution for this recurrence class is:"
      ],
      "text/plain": [
       "<IPython.core.display.Latex object>"
      ]
     },
     "metadata": {},
     "output_type": "display_data"
    },
    {
     "data": {
      "text/latex": [
       "$\\vec{\\pi} = $ $\\left[\\begin{matrix}0.0 & 0.0 & 0.0 & 0.0 & 0.0 & 0.0 & 1.0 & 0.0 & 0.0\\end{matrix}\\right]$ "
      ],
      "text/plain": [
       "<IPython.core.display.Latex object>"
      ]
     },
     "metadata": {},
     "output_type": "display_data"
    },
    {
     "name": "stdout",
     "output_type": "stream",
     "text": [
      "\n",
      "\n",
      "\n"
     ]
    },
    {
     "data": {
      "text/latex": [
       "Recurrence Class 1"
      ],
      "text/plain": [
       "<IPython.core.display.Latex object>"
      ]
     },
     "metadata": {},
     "output_type": "display_data"
    },
    {
     "data": {
      "text/latex": [
       "States =  $\\left[\\begin{matrix}8\\end{matrix}\\right]$ "
      ],
      "text/plain": [
       "<IPython.core.display.Latex object>"
      ]
     },
     "metadata": {},
     "output_type": "display_data"
    },
    {
     "data": {
      "text/latex": [
       "Period = 1"
      ],
      "text/plain": [
       "<IPython.core.display.Latex object>"
      ]
     },
     "metadata": {},
     "output_type": "display_data"
    },
    {
     "data": {
      "text/latex": [
       "The stationary/invariant distribution for this recurrence class is:"
      ],
      "text/plain": [
       "<IPython.core.display.Latex object>"
      ]
     },
     "metadata": {},
     "output_type": "display_data"
    },
    {
     "data": {
      "text/latex": [
       "$\\vec{\\pi} = $ $\\left[\\begin{matrix}0.0 & 0.0 & 0.0 & 0.0 & 0.0 & 0.0 & 0.0 & 0.0 & 1.0\\end{matrix}\\right]$ "
      ],
      "text/plain": [
       "<IPython.core.display.Latex object>"
      ]
     },
     "metadata": {},
     "output_type": "display_data"
    },
    {
     "name": "stdout",
     "output_type": "stream",
     "text": [
      "\n",
      "\n",
      "\n"
     ]
    },
    {
     "data": {
      "text/latex": [
       "Transient States"
      ],
      "text/plain": [
       "<IPython.core.display.Latex object>"
      ]
     },
     "metadata": {},
     "output_type": "display_data"
    },
    {
     "data": {
      "text/latex": [
       "States  $\\left[\\begin{matrix}0 & 1 & 2 & 3 & 4 & 5 & 7\\end{matrix}\\right]$ "
      ],
      "text/plain": [
       "<IPython.core.display.Latex object>"
      ]
     },
     "metadata": {},
     "output_type": "display_data"
    },
    {
     "data": {
      "text/latex": [
       "Vanishing eigenvectors are:"
      ],
      "text/plain": [
       "<IPython.core.display.Latex object>"
      ]
     },
     "metadata": {},
     "output_type": "display_data"
    },
    {
     "data": {
      "text/latex": [
       "$\\vec{v} = $ $\\left[\\begin{matrix}1.0 & 1.5946 & 1.0 & 1.0212 & 1.5616 & 1.0212 & -3.8231 & 0.4477 & -3.8231\\end{matrix}\\right]$ "
      ],
      "text/plain": [
       "<IPython.core.display.Latex object>"
      ]
     },
     "metadata": {},
     "output_type": "display_data"
    },
    {
     "data": {
      "text/latex": [
       "$\\vec{v} = $ $\\left[\\begin{matrix}1.0 & -1.5946 & 1.0 & -1.0212 & 1.5616 & -1.0212 & 0.2616 & -0.4477 & 0.2616\\end{matrix}\\right]$ "
      ],
      "text/plain": [
       "<IPython.core.display.Latex object>"
      ]
     },
     "metadata": {},
     "output_type": "display_data"
    },
    {
     "data": {
      "text/latex": [
       "$\\vec{v} = $ $\\left[\\begin{matrix}1.0 & 0.0 & -1.0 & 1.2247 & 0.0 & -1.2247 & -0.6899 & 0.0 & 0.6899\\end{matrix}\\right]$ "
      ],
      "text/plain": [
       "<IPython.core.display.Latex object>"
      ]
     },
     "metadata": {},
     "output_type": "display_data"
    },
    {
     "data": {
      "text/latex": [
       "$\\vec{v} = $ $\\left[\\begin{matrix}1.0 & 0.0 & -1.0 & -1.2247 & 0.0 & 1.2247 & 0.2899 & 0.0 & -0.2899\\end{matrix}\\right]$ "
      ],
      "text/plain": [
       "<IPython.core.display.Latex object>"
      ]
     },
     "metadata": {},
     "output_type": "display_data"
    },
    {
     "data": {
      "text/latex": [
       "$\\vec{v} = $ $\\left[\\begin{matrix}1.0 & 1.3303 & 1.0 & -0.5193 & -2.5616 & -0.5193 & 1.3194 & -2.369 & 1.3194\\end{matrix}\\right]$ "
      ],
      "text/plain": [
       "<IPython.core.display.Latex object>"
      ]
     },
     "metadata": {},
     "output_type": "display_data"
    },
    {
     "data": {
      "text/latex": [
       "$\\vec{v} = $ $\\left[\\begin{matrix}1.0 & -1.3303 & 1.0 & 0.5193 & -2.5616 & 0.5193 & -0.7579 & 2.369 & -0.7579\\end{matrix}\\right]$ "
      ],
      "text/plain": [
       "<IPython.core.display.Latex object>"
      ]
     },
     "metadata": {},
     "output_type": "display_data"
    },
    {
     "data": {
      "text/latex": [
       "$\\vec{v} = $ $\\left[\\begin{matrix}1.0 & -5.40864256097378 \\cdot 10^{31} & 5.0 & 5.40864256097378 \\cdot 10^{31} & 0.6667 & 5.40864256097378 \\cdot 10^{31} & 217892484253252.0 & -5.40864256097378 \\cdot 10^{31} & -8.72764092221074 \\cdot 10^{15}\\end{matrix}\\right]$ "
      ],
      "text/plain": [
       "<IPython.core.display.Latex object>"
      ]
     },
     "metadata": {},
     "output_type": "display_data"
    },
    {
     "data": {
      "text/latex": [
       "The analysis via eigenvectors says that, in the long run, this system should osciliate through the 1 distributions below."
      ],
      "text/plain": [
       "<IPython.core.display.Latex object>"
      ]
     },
     "metadata": {},
     "output_type": "display_data"
    },
    {
     "data": {
      "text/latex": [
       " $\\left[\\begin{matrix}0.0 & 0.0 & 0.0 & 0.0 & 0.0 & 0.0 & 0.6 & 0.0 & 0.4\\end{matrix}\\right]$ "
      ],
      "text/plain": [
       "array([[ 0. ,  0. ,  0. ,  0. ,  0. ,  0. ,  0.6,  0. ,  0.4]])"
      ]
     },
     "metadata": {},
     "output_type": "display_data"
    },
    {
     "data": {
      "text/latex": [
       "The average of these distributions is  $\\left[\\begin{matrix}0.0 & 0.0 & 0.0 & 0.0 & 0.0 & 0.0 & 0.6 & 0.0 & 0.4\\end{matrix}\\right]$ "
      ],
      "text/plain": [
       "<IPython.core.display.Latex object>"
      ]
     },
     "metadata": {},
     "output_type": "display_data"
    },
    {
     "name": "stdout",
     "output_type": "stream",
     "text": [
      "\n",
      "\n",
      "\n"
     ]
    },
    {
     "data": {
      "text/latex": [
       "Now we relabel the states so that recurrence classes are together and transient states are last."
      ],
      "text/plain": [
       "<IPython.core.display.Latex object>"
      ]
     },
     "metadata": {},
     "output_type": "display_data"
    },
    {
     "data": {
      "text/latex": [
       "Here is the relabelling  $\\left[\\begin{matrix}6\\\\8\\\\0\\\\1\\\\2\\\\3\\\\4\\\\5\\\\7\\end{matrix}\\right]$  $\\mapsto$  $\\left[\\begin{matrix}0\\\\1\\\\2\\\\3\\\\4\\\\5\\\\6\\\\7\\\\8\\end{matrix}\\right]$ "
      ],
      "text/plain": [
       "<IPython.core.display.Latex object>"
      ]
     },
     "metadata": {},
     "output_type": "display_data"
    },
    {
     "data": {
      "text/latex": [
       "This permutes the rows and columns of $P$ into $\\bar{P}=$  $\\left[\\begin{matrix}1.0 & 0.0 & 0.0 & 0.0 & 0.0 & 0.0 & 0.0 & 0.0 & 0.0\\\\0.0 & 1.0 & 0.0 & 0.0 & 0.0 & 0.0 & 0.0 & 0.0 & 0.0\\\\0.0 & 0.0 & 0.0 & 0.5 & 0.0 & 0.5 & 0.0 & 0.0 & 0.0\\\\0.0 & 0.0 & 0.3333 & 0.0 & 0.3333 & 0.0 & 0.3333 & 0.0 & 0.0\\\\0.0 & 0.0 & 0.0 & 0.5 & 0.0 & 0.0 & 0.0 & 0.5 & 0.0\\\\0.3333 & 0.0 & 0.3333 & 0.0 & 0.0 & 0.0 & 0.3333 & 0.0 & 0.0\\\\0.0 & 0.0 & 0.0 & 0.25 & 0.0 & 0.25 & 0.0 & 0.25 & 0.25\\\\0.0 & 0.3333 & 0.0 & 0.0 & 0.3333 & 0.0 & 0.3333 & 0.0 & 0.0\\\\0.3333 & 0.3333 & 0.0 & 0.0 & 0.0 & 0.0 & 0.3333 & 0.0 & 0.0\\end{matrix}\\right]$ "
      ],
      "text/plain": [
       "<IPython.core.display.Latex object>"
      ]
     },
     "metadata": {},
     "output_type": "display_data"
    },
    {
     "data": {
      "text/latex": [
       "The following top, left submatrix corresponds to recurrent $\\to$ recurrent transitions $R=$  $\\left[\\begin{matrix}1.0 & 0.0\\\\0.0 & 1.0\\end{matrix}\\right]$ "
      ],
      "text/plain": [
       "<IPython.core.display.Latex object>"
      ]
     },
     "metadata": {},
     "output_type": "display_data"
    },
    {
     "data": {
      "text/latex": [
       "The following bottom, left submatrix corresponds to transient $\\to$ recurrent transitions $S=$  $\\left[\\begin{matrix}0.0 & 0.0\\\\0.0 & 0.0\\\\0.0 & 0.0\\\\0.3333 & 0.0\\\\0.0 & 0.0\\\\0.0 & 0.3333\\\\0.3333 & 0.3333\\end{matrix}\\right]$ "
      ],
      "text/plain": [
       "<IPython.core.display.Latex object>"
      ]
     },
     "metadata": {},
     "output_type": "display_data"
    },
    {
     "data": {
      "text/latex": [
       "The following bottom, right submatrix corresponds to transient $\\to$ transient transitions $Q=$  $\\left[\\begin{matrix}0.0 & 0.5 & 0.0 & 0.5 & 0.0 & 0.0 & 0.0\\\\0.3333 & 0.0 & 0.3333 & 0.0 & 0.3333 & 0.0 & 0.0\\\\0.0 & 0.5 & 0.0 & 0.0 & 0.0 & 0.5 & 0.0\\\\0.3333 & 0.0 & 0.0 & 0.0 & 0.3333 & 0.0 & 0.0\\\\0.0 & 0.25 & 0.0 & 0.25 & 0.0 & 0.25 & 0.25\\\\0.0 & 0.0 & 0.3333 & 0.0 & 0.3333 & 0.0 & 0.0\\\\0.0 & 0.0 & 0.0 & 0.0 & 0.3333 & 0.0 & 0.0\\end{matrix}\\right]$ "
      ],
      "text/plain": [
       "<IPython.core.display.Latex object>"
      ]
     },
     "metadata": {},
     "output_type": "display_data"
    },
    {
     "data": {
      "text/latex": [
       "The following top, right submatrix corresponds to recurrent $\\to$ transient transitions $Z=$  $\\left[\\begin{matrix}0.0 & 0.0 & 0.0 & 0.0 & 0.0 & 0.0 & 0.0\\\\0.0 & 0.0 & 0.0 & 0.0 & 0.0 & 0.0 & 0.0\\end{matrix}\\right]$ "
      ],
      "text/plain": [
       "<IPython.core.display.Latex object>"
      ]
     },
     "metadata": {},
     "output_type": "display_data"
    },
    {
     "data": {
      "text/latex": [
       "The matrix directly above had better contain all zeros."
      ],
      "text/plain": [
       "<IPython.core.display.Latex object>"
      ]
     },
     "metadata": {},
     "output_type": "display_data"
    },
    {
     "data": {
      "text/latex": [
       "As stated in Lawler, we compute $M=(I-Q)^{-1}=$  $\\left[\\begin{matrix}2.1 & 1.875 & 0.9 & 1.425 & 1.5 & 0.825 & 0.375\\\\1.25 & 2.6875 & 1.25 & 1.0625 & 1.75 & 1.0625 & 0.4375\\\\0.9 & 1.875 & 2.1 & 0.825 & 1.5 & 1.425 & 0.375\\\\0.95 & 1.0625 & 0.55 & 1.7875 & 1.25 & 0.5875 & 0.3125\\\\0.75 & 1.3125 & 0.75 & 0.9375 & 2.25 & 0.9375 & 0.5625\\\\0.55 & 1.0625 & 0.95 & 0.5875 & 1.25 & 1.7875 & 0.3125\\\\0.25 & 0.4375 & 0.25 & 0.3125 & 0.75 & 0.3125 & 1.1875\\end{matrix}\\right]$ "
      ],
      "text/plain": [
       "<IPython.core.display.Latex object>"
      ]
     },
     "metadata": {},
     "output_type": "display_data"
    },
    {
     "data": {
      "text/latex": [
       "The $(i,j)$ entry of $M$ is the expected number of visits to state $j+2$ (transient) if chain starts at state $i+2$ (transient)."
      ],
      "text/plain": [
       "<IPython.core.display.Latex object>"
      ]
     },
     "metadata": {},
     "output_type": "display_data"
    },
    {
     "data": {
      "text/latex": [
       "So the sum across row $i$ is the expected absorption time if chain starts at state $i$"
      ],
      "text/plain": [
       "<IPython.core.display.Latex object>"
      ]
     },
     "metadata": {},
     "output_type": "display_data"
    },
    {
     "data": {
      "text/latex": [
       "I compute these expected absorption times to be  $\\left[\\begin{matrix}9.0\\\\9.5\\\\9.0\\\\6.5\\\\7.5\\\\6.5\\\\3.5\\end{matrix}\\right]$ "
      ],
      "text/plain": [
       "<IPython.core.display.Latex object>"
      ]
     },
     "metadata": {},
     "output_type": "display_data"
    },
    {
     "data": {
      "text/latex": [
       "Now, for absorption probabilities.  As stated in Lawler, the $(i,j)$ entry of $MS$ is the probability of absorption at state $j$ (recurrent) if chain starts at state $i+2$ (transient)."
      ],
      "text/plain": [
       "<IPython.core.display.Latex object>"
      ]
     },
     "metadata": {},
     "output_type": "display_data"
    },
    {
     "data": {
      "text/latex": [
       "I compute these absorption probabilities to be  $\\left[\\begin{matrix}0.6 & 0.4\\\\0.5 & 0.5\\\\0.4 & 0.6\\\\0.7 & 0.3\\\\0.5 & 0.5\\\\0.3 & 0.7\\\\0.5 & 0.5\\end{matrix}\\right]$ "
      ],
      "text/plain": [
       "<IPython.core.display.Latex object>"
      ]
     },
     "metadata": {},
     "output_type": "display_data"
    },
    {
     "data": {
      "text/latex": [
       "If we contract recurrent classes, this becomes $\\left[\\begin{matrix}0.6 & 0.4\\\\0.5 & 0.5\\\\0.4 & 0.6\\\\0.7 & 0.3\\\\0.5 & 0.5\\\\0.3 & 0.7\\\\0.5 & 0.5\\end{matrix}\\right]$ "
      ],
      "text/plain": [
       "<IPython.core.display.Latex object>"
      ]
     },
     "metadata": {},
     "output_type": "display_data"
    },
    {
     "data": {
      "text/latex": [
       "Where the $(i,j)$ entry is the probability of absorption into recurrence class $j$ if chain starts if chain starts at state $i+2$ (transient)."
      ],
      "text/plain": [
       "<IPython.core.display.Latex object>"
      ]
     },
     "metadata": {},
     "output_type": "display_data"
    },
    {
     "name": "stdout",
     "output_type": "stream",
     "text": [
      "\n",
      "\n"
     ]
    },
    {
     "data": {
      "text/latex": [
       "Ned begins in Room 1:"
      ],
      "text/plain": [
       "<IPython.core.display.Latex object>"
      ]
     },
     "metadata": {},
     "output_type": "display_data"
    },
    {
     "name": "stdout",
     "output_type": "stream",
     "text": [
      "\n",
      "\n"
     ]
    },
    {
     "data": {
      "text/latex": [
       "Using eigenvectors and eigenvalues to find long term behavior."
      ],
      "text/plain": [
       "<IPython.core.display.Latex object>"
      ]
     },
     "metadata": {},
     "output_type": "display_data"
    },
    {
     "data": {
      "text/latex": [
       "left eigenvectors = rows of  $\\left[\\begin{matrix}0.0 & 0.0 & 0.0 & 0.0 & 0.0 & 0.0 & 1.0 & 0.0 & 0.0\\\\0.0 & 0.0 & 0.0 & 0.0 & 0.0 & 0.0 & 0.0 & 0.0 & 1.0\\\\1.0 & 1.5946 & 1.0 & 1.0212 & 1.5616 & 1.0212 & -3.8231 & 0.4477 & -3.8231\\\\1.0 & -1.5946 & 1.0 & -1.0212 & 1.5616 & -1.0212 & 0.2616 & -0.4477 & 0.2616\\\\1.0 & 0.0 & -1.0 & 1.2247 & 0.0 & -1.2247 & -0.6899 & 0.0 & 0.6899\\\\1.0 & 0.0 & -1.0 & -1.2247 & 0.0 & 1.2247 & 0.2899 & 0.0 & -0.2899\\\\1.0 & 1.3303 & 1.0 & -0.5193 & -2.5616 & -0.5193 & 1.3194 & -2.369 & 1.3194\\\\1.0 & -1.3303 & 1.0 & 0.5193 & -2.5616 & 0.5193 & -0.7579 & 2.369 & -0.7579\\\\1.0 & -5.40864256097378 \\cdot 10^{31} & 5.0 & 5.40864256097378 \\cdot 10^{31} & 0.6667 & 5.40864256097378 \\cdot 10^{31} & 217892484253252.0 & -5.40864256097378 \\cdot 10^{31} & -8.72764092221074 \\cdot 10^{15}\\end{matrix}\\right]$ ,  $\\lambda =$ $\\left[\\begin{matrix}1.0\\\\1.0\\\\0.8719\\\\-0.8719\\\\0.4082\\\\-0.4082\\\\0.2703\\\\-0.2703\\\\0.0\\end{matrix}\\right]$ ,  $| \\lambda | =$ $\\left[\\begin{matrix}1.0\\\\1.0\\\\0.8719\\\\0.8719\\\\0.4082\\\\0.4082\\\\0.2703\\\\0.2703\\\\0.0\\end{matrix}\\right]$ "
      ],
      "text/plain": [
       "<IPython.core.display.Latex object>"
      ]
     },
     "metadata": {},
     "output_type": "display_data"
    },
    {
     "name": "stdout",
     "output_type": "stream",
     "text": [
      "\n",
      "\n",
      "\n"
     ]
    },
    {
     "data": {
      "text/latex": [
       "Recurrence Class 0"
      ],
      "text/plain": [
       "<IPython.core.display.Latex object>"
      ]
     },
     "metadata": {},
     "output_type": "display_data"
    },
    {
     "data": {
      "text/latex": [
       "States =  $\\left[\\begin{matrix}6\\end{matrix}\\right]$ "
      ],
      "text/plain": [
       "<IPython.core.display.Latex object>"
      ]
     },
     "metadata": {},
     "output_type": "display_data"
    },
    {
     "data": {
      "text/latex": [
       "Period = 1"
      ],
      "text/plain": [
       "<IPython.core.display.Latex object>"
      ]
     },
     "metadata": {},
     "output_type": "display_data"
    },
    {
     "data": {
      "text/latex": [
       "The stationary/invariant distribution for this recurrence class is:"
      ],
      "text/plain": [
       "<IPython.core.display.Latex object>"
      ]
     },
     "metadata": {},
     "output_type": "display_data"
    },
    {
     "data": {
      "text/latex": [
       "$\\vec{\\pi} = $ $\\left[\\begin{matrix}0.0 & 0.0 & 0.0 & 0.0 & 0.0 & 0.0 & 1.0 & 0.0 & 0.0\\end{matrix}\\right]$ "
      ],
      "text/plain": [
       "<IPython.core.display.Latex object>"
      ]
     },
     "metadata": {},
     "output_type": "display_data"
    },
    {
     "name": "stdout",
     "output_type": "stream",
     "text": [
      "\n",
      "\n",
      "\n"
     ]
    },
    {
     "data": {
      "text/latex": [
       "Recurrence Class 1"
      ],
      "text/plain": [
       "<IPython.core.display.Latex object>"
      ]
     },
     "metadata": {},
     "output_type": "display_data"
    },
    {
     "data": {
      "text/latex": [
       "States =  $\\left[\\begin{matrix}8\\end{matrix}\\right]$ "
      ],
      "text/plain": [
       "<IPython.core.display.Latex object>"
      ]
     },
     "metadata": {},
     "output_type": "display_data"
    },
    {
     "data": {
      "text/latex": [
       "Period = 1"
      ],
      "text/plain": [
       "<IPython.core.display.Latex object>"
      ]
     },
     "metadata": {},
     "output_type": "display_data"
    },
    {
     "data": {
      "text/latex": [
       "The stationary/invariant distribution for this recurrence class is:"
      ],
      "text/plain": [
       "<IPython.core.display.Latex object>"
      ]
     },
     "metadata": {},
     "output_type": "display_data"
    },
    {
     "data": {
      "text/latex": [
       "$\\vec{\\pi} = $ $\\left[\\begin{matrix}0.0 & 0.0 & 0.0 & 0.0 & 0.0 & 0.0 & 0.0 & 0.0 & 1.0\\end{matrix}\\right]$ "
      ],
      "text/plain": [
       "<IPython.core.display.Latex object>"
      ]
     },
     "metadata": {},
     "output_type": "display_data"
    },
    {
     "name": "stdout",
     "output_type": "stream",
     "text": [
      "\n",
      "\n",
      "\n"
     ]
    },
    {
     "data": {
      "text/latex": [
       "Transient States"
      ],
      "text/plain": [
       "<IPython.core.display.Latex object>"
      ]
     },
     "metadata": {},
     "output_type": "display_data"
    },
    {
     "data": {
      "text/latex": [
       "States  $\\left[\\begin{matrix}0 & 1 & 2 & 3 & 4 & 5 & 7\\end{matrix}\\right]$ "
      ],
      "text/plain": [
       "<IPython.core.display.Latex object>"
      ]
     },
     "metadata": {},
     "output_type": "display_data"
    },
    {
     "data": {
      "text/latex": [
       "Vanishing eigenvectors are:"
      ],
      "text/plain": [
       "<IPython.core.display.Latex object>"
      ]
     },
     "metadata": {},
     "output_type": "display_data"
    },
    {
     "data": {
      "text/latex": [
       "$\\vec{v} = $ $\\left[\\begin{matrix}1.0 & 1.5946 & 1.0 & 1.0212 & 1.5616 & 1.0212 & -3.8231 & 0.4477 & -3.8231\\end{matrix}\\right]$ "
      ],
      "text/plain": [
       "<IPython.core.display.Latex object>"
      ]
     },
     "metadata": {},
     "output_type": "display_data"
    },
    {
     "data": {
      "text/latex": [
       "$\\vec{v} = $ $\\left[\\begin{matrix}1.0 & -1.5946 & 1.0 & -1.0212 & 1.5616 & -1.0212 & 0.2616 & -0.4477 & 0.2616\\end{matrix}\\right]$ "
      ],
      "text/plain": [
       "<IPython.core.display.Latex object>"
      ]
     },
     "metadata": {},
     "output_type": "display_data"
    },
    {
     "data": {
      "text/latex": [
       "$\\vec{v} = $ $\\left[\\begin{matrix}1.0 & 0.0 & -1.0 & 1.2247 & 0.0 & -1.2247 & -0.6899 & 0.0 & 0.6899\\end{matrix}\\right]$ "
      ],
      "text/plain": [
       "<IPython.core.display.Latex object>"
      ]
     },
     "metadata": {},
     "output_type": "display_data"
    },
    {
     "data": {
      "text/latex": [
       "$\\vec{v} = $ $\\left[\\begin{matrix}1.0 & 0.0 & -1.0 & -1.2247 & 0.0 & 1.2247 & 0.2899 & 0.0 & -0.2899\\end{matrix}\\right]$ "
      ],
      "text/plain": [
       "<IPython.core.display.Latex object>"
      ]
     },
     "metadata": {},
     "output_type": "display_data"
    },
    {
     "data": {
      "text/latex": [
       "$\\vec{v} = $ $\\left[\\begin{matrix}1.0 & 1.3303 & 1.0 & -0.5193 & -2.5616 & -0.5193 & 1.3194 & -2.369 & 1.3194\\end{matrix}\\right]$ "
      ],
      "text/plain": [
       "<IPython.core.display.Latex object>"
      ]
     },
     "metadata": {},
     "output_type": "display_data"
    },
    {
     "data": {
      "text/latex": [
       "$\\vec{v} = $ $\\left[\\begin{matrix}1.0 & -1.3303 & 1.0 & 0.5193 & -2.5616 & 0.5193 & -0.7579 & 2.369 & -0.7579\\end{matrix}\\right]$ "
      ],
      "text/plain": [
       "<IPython.core.display.Latex object>"
      ]
     },
     "metadata": {},
     "output_type": "display_data"
    },
    {
     "data": {
      "text/latex": [
       "$\\vec{v} = $ $\\left[\\begin{matrix}1.0 & -5.40864256097378 \\cdot 10^{31} & 5.0 & 5.40864256097378 \\cdot 10^{31} & 0.6667 & 5.40864256097378 \\cdot 10^{31} & 217892484253252.0 & -5.40864256097378 \\cdot 10^{31} & -8.72764092221074 \\cdot 10^{15}\\end{matrix}\\right]$ "
      ],
      "text/plain": [
       "<IPython.core.display.Latex object>"
      ]
     },
     "metadata": {},
     "output_type": "display_data"
    },
    {
     "data": {
      "text/latex": [
       "The analysis via eigenvectors says that, in the long run, this system should osciliate through the 1 distributions below."
      ],
      "text/plain": [
       "<IPython.core.display.Latex object>"
      ]
     },
     "metadata": {},
     "output_type": "display_data"
    },
    {
     "data": {
      "text/latex": [
       " $\\left[\\begin{matrix}0.0 & 0.0 & 0.0 & 0.0 & 0.0 & 0.0 & 0.5 & 0.0 & 0.5\\end{matrix}\\right]$ "
      ],
      "text/plain": [
       "array([[ 0. ,  0. ,  0. ,  0. ,  0. ,  0. ,  0.5,  0. ,  0.5]])"
      ]
     },
     "metadata": {},
     "output_type": "display_data"
    },
    {
     "data": {
      "text/latex": [
       "The average of these distributions is  $\\left[\\begin{matrix}0.0 & 0.0 & 0.0 & 0.0 & 0.0 & 0.0 & 0.5 & 0.0 & 0.5\\end{matrix}\\right]$ "
      ],
      "text/plain": [
       "<IPython.core.display.Latex object>"
      ]
     },
     "metadata": {},
     "output_type": "display_data"
    },
    {
     "name": "stdout",
     "output_type": "stream",
     "text": [
      "\n",
      "\n",
      "\n"
     ]
    },
    {
     "data": {
      "text/latex": [
       "Now we relabel the states so that recurrence classes are together and transient states are last."
      ],
      "text/plain": [
       "<IPython.core.display.Latex object>"
      ]
     },
     "metadata": {},
     "output_type": "display_data"
    },
    {
     "data": {
      "text/latex": [
       "Here is the relabelling  $\\left[\\begin{matrix}6\\\\8\\\\0\\\\1\\\\2\\\\3\\\\4\\\\5\\\\7\\end{matrix}\\right]$  $\\mapsto$  $\\left[\\begin{matrix}0\\\\1\\\\2\\\\3\\\\4\\\\5\\\\6\\\\7\\\\8\\end{matrix}\\right]$ "
      ],
      "text/plain": [
       "<IPython.core.display.Latex object>"
      ]
     },
     "metadata": {},
     "output_type": "display_data"
    },
    {
     "data": {
      "text/latex": [
       "This permutes the rows and columns of $P$ into $\\bar{P}=$  $\\left[\\begin{matrix}1.0 & 0.0 & 0.0 & 0.0 & 0.0 & 0.0 & 0.0 & 0.0 & 0.0\\\\0.0 & 1.0 & 0.0 & 0.0 & 0.0 & 0.0 & 0.0 & 0.0 & 0.0\\\\0.0 & 0.0 & 0.0 & 0.5 & 0.0 & 0.5 & 0.0 & 0.0 & 0.0\\\\0.0 & 0.0 & 0.3333 & 0.0 & 0.3333 & 0.0 & 0.3333 & 0.0 & 0.0\\\\0.0 & 0.0 & 0.0 & 0.5 & 0.0 & 0.0 & 0.0 & 0.5 & 0.0\\\\0.3333 & 0.0 & 0.3333 & 0.0 & 0.0 & 0.0 & 0.3333 & 0.0 & 0.0\\\\0.0 & 0.0 & 0.0 & 0.25 & 0.0 & 0.25 & 0.0 & 0.25 & 0.25\\\\0.0 & 0.3333 & 0.0 & 0.0 & 0.3333 & 0.0 & 0.3333 & 0.0 & 0.0\\\\0.3333 & 0.3333 & 0.0 & 0.0 & 0.0 & 0.0 & 0.3333 & 0.0 & 0.0\\end{matrix}\\right]$ "
      ],
      "text/plain": [
       "<IPython.core.display.Latex object>"
      ]
     },
     "metadata": {},
     "output_type": "display_data"
    },
    {
     "data": {
      "text/latex": [
       "The following top, left submatrix corresponds to recurrent $\\to$ recurrent transitions $R=$  $\\left[\\begin{matrix}1.0 & 0.0\\\\0.0 & 1.0\\end{matrix}\\right]$ "
      ],
      "text/plain": [
       "<IPython.core.display.Latex object>"
      ]
     },
     "metadata": {},
     "output_type": "display_data"
    },
    {
     "data": {
      "text/latex": [
       "The following bottom, left submatrix corresponds to transient $\\to$ recurrent transitions $S=$  $\\left[\\begin{matrix}0.0 & 0.0\\\\0.0 & 0.0\\\\0.0 & 0.0\\\\0.3333 & 0.0\\\\0.0 & 0.0\\\\0.0 & 0.3333\\\\0.3333 & 0.3333\\end{matrix}\\right]$ "
      ],
      "text/plain": [
       "<IPython.core.display.Latex object>"
      ]
     },
     "metadata": {},
     "output_type": "display_data"
    },
    {
     "data": {
      "text/latex": [
       "The following bottom, right submatrix corresponds to transient $\\to$ transient transitions $Q=$  $\\left[\\begin{matrix}0.0 & 0.5 & 0.0 & 0.5 & 0.0 & 0.0 & 0.0\\\\0.3333 & 0.0 & 0.3333 & 0.0 & 0.3333 & 0.0 & 0.0\\\\0.0 & 0.5 & 0.0 & 0.0 & 0.0 & 0.5 & 0.0\\\\0.3333 & 0.0 & 0.0 & 0.0 & 0.3333 & 0.0 & 0.0\\\\0.0 & 0.25 & 0.0 & 0.25 & 0.0 & 0.25 & 0.25\\\\0.0 & 0.0 & 0.3333 & 0.0 & 0.3333 & 0.0 & 0.0\\\\0.0 & 0.0 & 0.0 & 0.0 & 0.3333 & 0.0 & 0.0\\end{matrix}\\right]$ "
      ],
      "text/plain": [
       "<IPython.core.display.Latex object>"
      ]
     },
     "metadata": {},
     "output_type": "display_data"
    },
    {
     "data": {
      "text/latex": [
       "The following top, right submatrix corresponds to recurrent $\\to$ transient transitions $Z=$  $\\left[\\begin{matrix}0.0 & 0.0 & 0.0 & 0.0 & 0.0 & 0.0 & 0.0\\\\0.0 & 0.0 & 0.0 & 0.0 & 0.0 & 0.0 & 0.0\\end{matrix}\\right]$ "
      ],
      "text/plain": [
       "<IPython.core.display.Latex object>"
      ]
     },
     "metadata": {},
     "output_type": "display_data"
    },
    {
     "data": {
      "text/latex": [
       "The matrix directly above had better contain all zeros."
      ],
      "text/plain": [
       "<IPython.core.display.Latex object>"
      ]
     },
     "metadata": {},
     "output_type": "display_data"
    },
    {
     "data": {
      "text/latex": [
       "As stated in Lawler, we compute $M=(I-Q)^{-1}=$  $\\left[\\begin{matrix}2.1 & 1.875 & 0.9 & 1.425 & 1.5 & 0.825 & 0.375\\\\1.25 & 2.6875 & 1.25 & 1.0625 & 1.75 & 1.0625 & 0.4375\\\\0.9 & 1.875 & 2.1 & 0.825 & 1.5 & 1.425 & 0.375\\\\0.95 & 1.0625 & 0.55 & 1.7875 & 1.25 & 0.5875 & 0.3125\\\\0.75 & 1.3125 & 0.75 & 0.9375 & 2.25 & 0.9375 & 0.5625\\\\0.55 & 1.0625 & 0.95 & 0.5875 & 1.25 & 1.7875 & 0.3125\\\\0.25 & 0.4375 & 0.25 & 0.3125 & 0.75 & 0.3125 & 1.1875\\end{matrix}\\right]$ "
      ],
      "text/plain": [
       "<IPython.core.display.Latex object>"
      ]
     },
     "metadata": {},
     "output_type": "display_data"
    },
    {
     "data": {
      "text/latex": [
       "The $(i,j)$ entry of $M$ is the expected number of visits to state $j+2$ (transient) if chain starts at state $i+2$ (transient)."
      ],
      "text/plain": [
       "<IPython.core.display.Latex object>"
      ]
     },
     "metadata": {},
     "output_type": "display_data"
    },
    {
     "data": {
      "text/latex": [
       "So the sum across row $i$ is the expected absorption time if chain starts at state $i$"
      ],
      "text/plain": [
       "<IPython.core.display.Latex object>"
      ]
     },
     "metadata": {},
     "output_type": "display_data"
    },
    {
     "data": {
      "text/latex": [
       "I compute these expected absorption times to be  $\\left[\\begin{matrix}9.0\\\\9.5\\\\9.0\\\\6.5\\\\7.5\\\\6.5\\\\3.5\\end{matrix}\\right]$ "
      ],
      "text/plain": [
       "<IPython.core.display.Latex object>"
      ]
     },
     "metadata": {},
     "output_type": "display_data"
    },
    {
     "data": {
      "text/latex": [
       "Now, for absorption probabilities.  As stated in Lawler, the $(i,j)$ entry of $MS$ is the probability of absorption at state $j$ (recurrent) if chain starts at state $i+2$ (transient)."
      ],
      "text/plain": [
       "<IPython.core.display.Latex object>"
      ]
     },
     "metadata": {},
     "output_type": "display_data"
    },
    {
     "data": {
      "text/latex": [
       "I compute these absorption probabilities to be  $\\left[\\begin{matrix}0.6 & 0.4\\\\0.5 & 0.5\\\\0.4 & 0.6\\\\0.7 & 0.3\\\\0.5 & 0.5\\\\0.3 & 0.7\\\\0.5 & 0.5\\end{matrix}\\right]$ "
      ],
      "text/plain": [
       "<IPython.core.display.Latex object>"
      ]
     },
     "metadata": {},
     "output_type": "display_data"
    },
    {
     "data": {
      "text/latex": [
       "If we contract recurrent classes, this becomes $\\left[\\begin{matrix}0.6 & 0.4\\\\0.5 & 0.5\\\\0.4 & 0.6\\\\0.7 & 0.3\\\\0.5 & 0.5\\\\0.3 & 0.7\\\\0.5 & 0.5\\end{matrix}\\right]$ "
      ],
      "text/plain": [
       "<IPython.core.display.Latex object>"
      ]
     },
     "metadata": {},
     "output_type": "display_data"
    },
    {
     "data": {
      "text/latex": [
       "Where the $(i,j)$ entry is the probability of absorption into recurrence class $j$ if chain starts if chain starts at state $i+2$ (transient)."
      ],
      "text/plain": [
       "<IPython.core.display.Latex object>"
      ]
     },
     "metadata": {},
     "output_type": "display_data"
    },
    {
     "name": "stdout",
     "output_type": "stream",
     "text": [
      "\n",
      "\n"
     ]
    },
    {
     "data": {
      "text/latex": [
       "Ned begins in Room 5:"
      ],
      "text/plain": [
       "<IPython.core.display.Latex object>"
      ]
     },
     "metadata": {},
     "output_type": "display_data"
    },
    {
     "name": "stdout",
     "output_type": "stream",
     "text": [
      "\n",
      "\n"
     ]
    },
    {
     "data": {
      "text/latex": [
       "Using eigenvectors and eigenvalues to find long term behavior."
      ],
      "text/plain": [
       "<IPython.core.display.Latex object>"
      ]
     },
     "metadata": {},
     "output_type": "display_data"
    },
    {
     "data": {
      "text/latex": [
       "left eigenvectors = rows of  $\\left[\\begin{matrix}0.0 & 0.0 & 0.0 & 0.0 & 0.0 & 0.0 & 1.0 & 0.0 & 0.0\\\\0.0 & 0.0 & 0.0 & 0.0 & 0.0 & 0.0 & 0.0 & 0.0 & 1.0\\\\1.0 & 1.5946 & 1.0 & 1.0212 & 1.5616 & 1.0212 & -3.8231 & 0.4477 & -3.8231\\\\1.0 & -1.5946 & 1.0 & -1.0212 & 1.5616 & -1.0212 & 0.2616 & -0.4477 & 0.2616\\\\1.0 & 0.0 & -1.0 & 1.2247 & 0.0 & -1.2247 & -0.6899 & 0.0 & 0.6899\\\\1.0 & 0.0 & -1.0 & -1.2247 & 0.0 & 1.2247 & 0.2899 & 0.0 & -0.2899\\\\1.0 & 1.3303 & 1.0 & -0.5193 & -2.5616 & -0.5193 & 1.3194 & -2.369 & 1.3194\\\\1.0 & -1.3303 & 1.0 & 0.5193 & -2.5616 & 0.5193 & -0.7579 & 2.369 & -0.7579\\\\1.0 & -5.40864256097378 \\cdot 10^{31} & 5.0 & 5.40864256097378 \\cdot 10^{31} & 0.6667 & 5.40864256097378 \\cdot 10^{31} & 217892484253252.0 & -5.40864256097378 \\cdot 10^{31} & -8.72764092221074 \\cdot 10^{15}\\end{matrix}\\right]$ ,  $\\lambda =$ $\\left[\\begin{matrix}1.0\\\\1.0\\\\0.8719\\\\-0.8719\\\\0.4082\\\\-0.4082\\\\0.2703\\\\-0.2703\\\\0.0\\end{matrix}\\right]$ ,  $| \\lambda | =$ $\\left[\\begin{matrix}1.0\\\\1.0\\\\0.8719\\\\0.8719\\\\0.4082\\\\0.4082\\\\0.2703\\\\0.2703\\\\0.0\\end{matrix}\\right]$ "
      ],
      "text/plain": [
       "<IPython.core.display.Latex object>"
      ]
     },
     "metadata": {},
     "output_type": "display_data"
    },
    {
     "name": "stdout",
     "output_type": "stream",
     "text": [
      "\n",
      "\n",
      "\n"
     ]
    },
    {
     "data": {
      "text/latex": [
       "Recurrence Class 0"
      ],
      "text/plain": [
       "<IPython.core.display.Latex object>"
      ]
     },
     "metadata": {},
     "output_type": "display_data"
    },
    {
     "data": {
      "text/latex": [
       "States =  $\\left[\\begin{matrix}6\\end{matrix}\\right]$ "
      ],
      "text/plain": [
       "<IPython.core.display.Latex object>"
      ]
     },
     "metadata": {},
     "output_type": "display_data"
    },
    {
     "data": {
      "text/latex": [
       "Period = 1"
      ],
      "text/plain": [
       "<IPython.core.display.Latex object>"
      ]
     },
     "metadata": {},
     "output_type": "display_data"
    },
    {
     "data": {
      "text/latex": [
       "The stationary/invariant distribution for this recurrence class is:"
      ],
      "text/plain": [
       "<IPython.core.display.Latex object>"
      ]
     },
     "metadata": {},
     "output_type": "display_data"
    },
    {
     "data": {
      "text/latex": [
       "$\\vec{\\pi} = $ $\\left[\\begin{matrix}0.0 & 0.0 & 0.0 & 0.0 & 0.0 & 0.0 & 1.0 & 0.0 & 0.0\\end{matrix}\\right]$ "
      ],
      "text/plain": [
       "<IPython.core.display.Latex object>"
      ]
     },
     "metadata": {},
     "output_type": "display_data"
    },
    {
     "name": "stdout",
     "output_type": "stream",
     "text": [
      "\n",
      "\n",
      "\n"
     ]
    },
    {
     "data": {
      "text/latex": [
       "Recurrence Class 1"
      ],
      "text/plain": [
       "<IPython.core.display.Latex object>"
      ]
     },
     "metadata": {},
     "output_type": "display_data"
    },
    {
     "data": {
      "text/latex": [
       "States =  $\\left[\\begin{matrix}8\\end{matrix}\\right]$ "
      ],
      "text/plain": [
       "<IPython.core.display.Latex object>"
      ]
     },
     "metadata": {},
     "output_type": "display_data"
    },
    {
     "data": {
      "text/latex": [
       "Period = 1"
      ],
      "text/plain": [
       "<IPython.core.display.Latex object>"
      ]
     },
     "metadata": {},
     "output_type": "display_data"
    },
    {
     "data": {
      "text/latex": [
       "The stationary/invariant distribution for this recurrence class is:"
      ],
      "text/plain": [
       "<IPython.core.display.Latex object>"
      ]
     },
     "metadata": {},
     "output_type": "display_data"
    },
    {
     "data": {
      "text/latex": [
       "$\\vec{\\pi} = $ $\\left[\\begin{matrix}0.0 & 0.0 & 0.0 & 0.0 & 0.0 & 0.0 & 0.0 & 0.0 & 1.0\\end{matrix}\\right]$ "
      ],
      "text/plain": [
       "<IPython.core.display.Latex object>"
      ]
     },
     "metadata": {},
     "output_type": "display_data"
    },
    {
     "name": "stdout",
     "output_type": "stream",
     "text": [
      "\n",
      "\n",
      "\n"
     ]
    },
    {
     "data": {
      "text/latex": [
       "Transient States"
      ],
      "text/plain": [
       "<IPython.core.display.Latex object>"
      ]
     },
     "metadata": {},
     "output_type": "display_data"
    },
    {
     "data": {
      "text/latex": [
       "States  $\\left[\\begin{matrix}0 & 1 & 2 & 3 & 4 & 5 & 7\\end{matrix}\\right]$ "
      ],
      "text/plain": [
       "<IPython.core.display.Latex object>"
      ]
     },
     "metadata": {},
     "output_type": "display_data"
    },
    {
     "data": {
      "text/latex": [
       "Vanishing eigenvectors are:"
      ],
      "text/plain": [
       "<IPython.core.display.Latex object>"
      ]
     },
     "metadata": {},
     "output_type": "display_data"
    },
    {
     "data": {
      "text/latex": [
       "$\\vec{v} = $ $\\left[\\begin{matrix}1.0 & 1.5946 & 1.0 & 1.0212 & 1.5616 & 1.0212 & -3.8231 & 0.4477 & -3.8231\\end{matrix}\\right]$ "
      ],
      "text/plain": [
       "<IPython.core.display.Latex object>"
      ]
     },
     "metadata": {},
     "output_type": "display_data"
    },
    {
     "data": {
      "text/latex": [
       "$\\vec{v} = $ $\\left[\\begin{matrix}1.0 & -1.5946 & 1.0 & -1.0212 & 1.5616 & -1.0212 & 0.2616 & -0.4477 & 0.2616\\end{matrix}\\right]$ "
      ],
      "text/plain": [
       "<IPython.core.display.Latex object>"
      ]
     },
     "metadata": {},
     "output_type": "display_data"
    },
    {
     "data": {
      "text/latex": [
       "$\\vec{v} = $ $\\left[\\begin{matrix}1.0 & 0.0 & -1.0 & 1.2247 & 0.0 & -1.2247 & -0.6899 & 0.0 & 0.6899\\end{matrix}\\right]$ "
      ],
      "text/plain": [
       "<IPython.core.display.Latex object>"
      ]
     },
     "metadata": {},
     "output_type": "display_data"
    },
    {
     "data": {
      "text/latex": [
       "$\\vec{v} = $ $\\left[\\begin{matrix}1.0 & 0.0 & -1.0 & -1.2247 & 0.0 & 1.2247 & 0.2899 & 0.0 & -0.2899\\end{matrix}\\right]$ "
      ],
      "text/plain": [
       "<IPython.core.display.Latex object>"
      ]
     },
     "metadata": {},
     "output_type": "display_data"
    },
    {
     "data": {
      "text/latex": [
       "$\\vec{v} = $ $\\left[\\begin{matrix}1.0 & 1.3303 & 1.0 & -0.5193 & -2.5616 & -0.5193 & 1.3194 & -2.369 & 1.3194\\end{matrix}\\right]$ "
      ],
      "text/plain": [
       "<IPython.core.display.Latex object>"
      ]
     },
     "metadata": {},
     "output_type": "display_data"
    },
    {
     "data": {
      "text/latex": [
       "$\\vec{v} = $ $\\left[\\begin{matrix}1.0 & -1.3303 & 1.0 & 0.5193 & -2.5616 & 0.5193 & -0.7579 & 2.369 & -0.7579\\end{matrix}\\right]$ "
      ],
      "text/plain": [
       "<IPython.core.display.Latex object>"
      ]
     },
     "metadata": {},
     "output_type": "display_data"
    },
    {
     "data": {
      "text/latex": [
       "$\\vec{v} = $ $\\left[\\begin{matrix}1.0 & -5.40864256097378 \\cdot 10^{31} & 5.0 & 5.40864256097378 \\cdot 10^{31} & 0.6667 & 5.40864256097378 \\cdot 10^{31} & 217892484253252.0 & -5.40864256097378 \\cdot 10^{31} & -8.72764092221074 \\cdot 10^{15}\\end{matrix}\\right]$ "
      ],
      "text/plain": [
       "<IPython.core.display.Latex object>"
      ]
     },
     "metadata": {},
     "output_type": "display_data"
    },
    {
     "data": {
      "text/latex": [
       "The analysis via eigenvectors says that, in the long run, this system should osciliate through the 1 distributions below."
      ],
      "text/plain": [
       "<IPython.core.display.Latex object>"
      ]
     },
     "metadata": {},
     "output_type": "display_data"
    },
    {
     "data": {
      "text/latex": [
       " $\\left[\\begin{matrix}0.0 & 0.0 & 0.0 & 0.0 & 0.0 & 0.0 & 0.3 & 0.0 & 0.7\\end{matrix}\\right]$ "
      ],
      "text/plain": [
       "array([[ 0. ,  0. ,  0. ,  0. ,  0. ,  0. ,  0.3,  0. ,  0.7]])"
      ]
     },
     "metadata": {},
     "output_type": "display_data"
    },
    {
     "data": {
      "text/latex": [
       "The average of these distributions is  $\\left[\\begin{matrix}0.0 & 0.0 & 0.0 & 0.0 & 0.0 & 0.0 & 0.3 & 0.0 & 0.7\\end{matrix}\\right]$ "
      ],
      "text/plain": [
       "<IPython.core.display.Latex object>"
      ]
     },
     "metadata": {},
     "output_type": "display_data"
    },
    {
     "name": "stdout",
     "output_type": "stream",
     "text": [
      "\n",
      "\n",
      "\n"
     ]
    },
    {
     "data": {
      "text/latex": [
       "Now we relabel the states so that recurrence classes are together and transient states are last."
      ],
      "text/plain": [
       "<IPython.core.display.Latex object>"
      ]
     },
     "metadata": {},
     "output_type": "display_data"
    },
    {
     "data": {
      "text/latex": [
       "Here is the relabelling  $\\left[\\begin{matrix}6\\\\8\\\\0\\\\1\\\\2\\\\3\\\\4\\\\5\\\\7\\end{matrix}\\right]$  $\\mapsto$  $\\left[\\begin{matrix}0\\\\1\\\\2\\\\3\\\\4\\\\5\\\\6\\\\7\\\\8\\end{matrix}\\right]$ "
      ],
      "text/plain": [
       "<IPython.core.display.Latex object>"
      ]
     },
     "metadata": {},
     "output_type": "display_data"
    },
    {
     "data": {
      "text/latex": [
       "This permutes the rows and columns of $P$ into $\\bar{P}=$  $\\left[\\begin{matrix}1.0 & 0.0 & 0.0 & 0.0 & 0.0 & 0.0 & 0.0 & 0.0 & 0.0\\\\0.0 & 1.0 & 0.0 & 0.0 & 0.0 & 0.0 & 0.0 & 0.0 & 0.0\\\\0.0 & 0.0 & 0.0 & 0.5 & 0.0 & 0.5 & 0.0 & 0.0 & 0.0\\\\0.0 & 0.0 & 0.3333 & 0.0 & 0.3333 & 0.0 & 0.3333 & 0.0 & 0.0\\\\0.0 & 0.0 & 0.0 & 0.5 & 0.0 & 0.0 & 0.0 & 0.5 & 0.0\\\\0.3333 & 0.0 & 0.3333 & 0.0 & 0.0 & 0.0 & 0.3333 & 0.0 & 0.0\\\\0.0 & 0.0 & 0.0 & 0.25 & 0.0 & 0.25 & 0.0 & 0.25 & 0.25\\\\0.0 & 0.3333 & 0.0 & 0.0 & 0.3333 & 0.0 & 0.3333 & 0.0 & 0.0\\\\0.3333 & 0.3333 & 0.0 & 0.0 & 0.0 & 0.0 & 0.3333 & 0.0 & 0.0\\end{matrix}\\right]$ "
      ],
      "text/plain": [
       "<IPython.core.display.Latex object>"
      ]
     },
     "metadata": {},
     "output_type": "display_data"
    },
    {
     "data": {
      "text/latex": [
       "The following top, left submatrix corresponds to recurrent $\\to$ recurrent transitions $R=$  $\\left[\\begin{matrix}1.0 & 0.0\\\\0.0 & 1.0\\end{matrix}\\right]$ "
      ],
      "text/plain": [
       "<IPython.core.display.Latex object>"
      ]
     },
     "metadata": {},
     "output_type": "display_data"
    },
    {
     "data": {
      "text/latex": [
       "The following bottom, left submatrix corresponds to transient $\\to$ recurrent transitions $S=$  $\\left[\\begin{matrix}0.0 & 0.0\\\\0.0 & 0.0\\\\0.0 & 0.0\\\\0.3333 & 0.0\\\\0.0 & 0.0\\\\0.0 & 0.3333\\\\0.3333 & 0.3333\\end{matrix}\\right]$ "
      ],
      "text/plain": [
       "<IPython.core.display.Latex object>"
      ]
     },
     "metadata": {},
     "output_type": "display_data"
    },
    {
     "data": {
      "text/latex": [
       "The following bottom, right submatrix corresponds to transient $\\to$ transient transitions $Q=$  $\\left[\\begin{matrix}0.0 & 0.5 & 0.0 & 0.5 & 0.0 & 0.0 & 0.0\\\\0.3333 & 0.0 & 0.3333 & 0.0 & 0.3333 & 0.0 & 0.0\\\\0.0 & 0.5 & 0.0 & 0.0 & 0.0 & 0.5 & 0.0\\\\0.3333 & 0.0 & 0.0 & 0.0 & 0.3333 & 0.0 & 0.0\\\\0.0 & 0.25 & 0.0 & 0.25 & 0.0 & 0.25 & 0.25\\\\0.0 & 0.0 & 0.3333 & 0.0 & 0.3333 & 0.0 & 0.0\\\\0.0 & 0.0 & 0.0 & 0.0 & 0.3333 & 0.0 & 0.0\\end{matrix}\\right]$ "
      ],
      "text/plain": [
       "<IPython.core.display.Latex object>"
      ]
     },
     "metadata": {},
     "output_type": "display_data"
    },
    {
     "data": {
      "text/latex": [
       "The following top, right submatrix corresponds to recurrent $\\to$ transient transitions $Z=$  $\\left[\\begin{matrix}0.0 & 0.0 & 0.0 & 0.0 & 0.0 & 0.0 & 0.0\\\\0.0 & 0.0 & 0.0 & 0.0 & 0.0 & 0.0 & 0.0\\end{matrix}\\right]$ "
      ],
      "text/plain": [
       "<IPython.core.display.Latex object>"
      ]
     },
     "metadata": {},
     "output_type": "display_data"
    },
    {
     "data": {
      "text/latex": [
       "The matrix directly above had better contain all zeros."
      ],
      "text/plain": [
       "<IPython.core.display.Latex object>"
      ]
     },
     "metadata": {},
     "output_type": "display_data"
    },
    {
     "data": {
      "text/latex": [
       "As stated in Lawler, we compute $M=(I-Q)^{-1}=$  $\\left[\\begin{matrix}2.1 & 1.875 & 0.9 & 1.425 & 1.5 & 0.825 & 0.375\\\\1.25 & 2.6875 & 1.25 & 1.0625 & 1.75 & 1.0625 & 0.4375\\\\0.9 & 1.875 & 2.1 & 0.825 & 1.5 & 1.425 & 0.375\\\\0.95 & 1.0625 & 0.55 & 1.7875 & 1.25 & 0.5875 & 0.3125\\\\0.75 & 1.3125 & 0.75 & 0.9375 & 2.25 & 0.9375 & 0.5625\\\\0.55 & 1.0625 & 0.95 & 0.5875 & 1.25 & 1.7875 & 0.3125\\\\0.25 & 0.4375 & 0.25 & 0.3125 & 0.75 & 0.3125 & 1.1875\\end{matrix}\\right]$ "
      ],
      "text/plain": [
       "<IPython.core.display.Latex object>"
      ]
     },
     "metadata": {},
     "output_type": "display_data"
    },
    {
     "data": {
      "text/latex": [
       "The $(i,j)$ entry of $M$ is the expected number of visits to state $j+2$ (transient) if chain starts at state $i+2$ (transient)."
      ],
      "text/plain": [
       "<IPython.core.display.Latex object>"
      ]
     },
     "metadata": {},
     "output_type": "display_data"
    },
    {
     "data": {
      "text/latex": [
       "So the sum across row $i$ is the expected absorption time if chain starts at state $i$"
      ],
      "text/plain": [
       "<IPython.core.display.Latex object>"
      ]
     },
     "metadata": {},
     "output_type": "display_data"
    },
    {
     "data": {
      "text/latex": [
       "I compute these expected absorption times to be  $\\left[\\begin{matrix}9.0\\\\9.5\\\\9.0\\\\6.5\\\\7.5\\\\6.5\\\\3.5\\end{matrix}\\right]$ "
      ],
      "text/plain": [
       "<IPython.core.display.Latex object>"
      ]
     },
     "metadata": {},
     "output_type": "display_data"
    },
    {
     "data": {
      "text/latex": [
       "Now, for absorption probabilities.  As stated in Lawler, the $(i,j)$ entry of $MS$ is the probability of absorption at state $j$ (recurrent) if chain starts at state $i+2$ (transient)."
      ],
      "text/plain": [
       "<IPython.core.display.Latex object>"
      ]
     },
     "metadata": {},
     "output_type": "display_data"
    },
    {
     "data": {
      "text/latex": [
       "I compute these absorption probabilities to be  $\\left[\\begin{matrix}0.6 & 0.4\\\\0.5 & 0.5\\\\0.4 & 0.6\\\\0.7 & 0.3\\\\0.5 & 0.5\\\\0.3 & 0.7\\\\0.5 & 0.5\\end{matrix}\\right]$ "
      ],
      "text/plain": [
       "<IPython.core.display.Latex object>"
      ]
     },
     "metadata": {},
     "output_type": "display_data"
    },
    {
     "data": {
      "text/latex": [
       "If we contract recurrent classes, this becomes $\\left[\\begin{matrix}0.6 & 0.4\\\\0.5 & 0.5\\\\0.4 & 0.6\\\\0.7 & 0.3\\\\0.5 & 0.5\\\\0.3 & 0.7\\\\0.5 & 0.5\\end{matrix}\\right]$ "
      ],
      "text/plain": [
       "<IPython.core.display.Latex object>"
      ]
     },
     "metadata": {},
     "output_type": "display_data"
    },
    {
     "data": {
      "text/latex": [
       "Where the $(i,j)$ entry is the probability of absorption into recurrence class $j$ if chain starts if chain starts at state $i+2$ (transient)."
      ],
      "text/plain": [
       "<IPython.core.display.Latex object>"
      ]
     },
     "metadata": {},
     "output_type": "display_data"
    }
   ],
   "source": [
    "States = 9\n",
    "phi_zero = np.array([1,0,0,0,0,0,0,0,0])\n",
    "phi_one = np.array([0,1,0,0,0,0,0,0,0])\n",
    "phi_five = np.array([0,0,0,0,0,1,0,0,0])\n",
    "\n",
    "P = np.array([[0,.5,0,.5,0,0,0,0,0],[1/3,0,1/3,0,1/3,0,0,0,0],[0,.5,0,0,0,.5,0,0,0],\n",
    "             [1/3,0,0,0,1/3,0,1/3,0,0],[0,.25,0,.25,0,.25,0,.25,0],[0,0,1/3,0,1/3,0,0,0,1/3],\n",
    "             [0,0,0,0,0,0,1,0,0],[0,0,0,0,1/3,0,1/3,0,1/3],[0,0,0,0,0,0,0,0,1]])\n",
    "printltx(r\"$P = $\"+ltxmtx(P))\n",
    "\n",
    "P = normalize_rows(P)\n",
    "\n",
    "tol = 0.0001\n",
    "states_in_rec_classes = [[6],[8]]\n",
    "\n",
    "\n",
    "printltx(r\"Ned begins in Room 0:\")\n",
    "eigen_future(P, phi_zero)\n",
    "#matrix_evolution(P, phi_zero, Steps, Records)\n",
    "\n",
    "print(\"\\n\")\n",
    "printltx(r\"Ned begins in Room 1:\")\n",
    "eigen_future(P, phi_one)\n",
    "\n",
    "print(\"\\n\")\n",
    "printltx(r\"Ned begins in Room 5:\")\n",
    "eigen_future(P, phi_five)\n"
   ]
  },
  {
   "cell_type": "code",
   "execution_count": null,
   "metadata": {
    "collapsed": true
   },
   "outputs": [],
   "source": []
  }
 ],
 "metadata": {
  "kernelspec": {
   "display_name": "Python 2 (SageMath)",
   "language": "python",
   "name": "python2"
  },
  "language_info": {
   "codemirror_mode": {
    "name": "ipython",
    "version": 2
   },
   "file_extension": ".py",
   "mimetype": "text/x-python",
   "name": "python",
   "nbconvert_exporter": "python",
   "pygments_lexer": "ipython2",
   "version": "2.7.10"
  }
 },
 "nbformat": 4,
 "nbformat_minor": 0
}
