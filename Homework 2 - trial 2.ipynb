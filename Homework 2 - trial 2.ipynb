{
 "cells": [
  {
   "cell_type": "code",
   "execution_count": 4,
   "metadata": {
    "collapsed": false
   },
   "outputs": [],
   "source": [
    "from IPython.display import display, Latex, Math, Markdown\n",
    "import numpy as np\n",
    "import sympy as sym\n",
    "import matplotlib.pyplot as plt\n",
    "from __future__ import division #needed to use fractions without specifying floats\n",
    "import fractions #to use gcd in cook's code\n",
    "\n",
    "sym.init_printing()\n",
    "def printltx(s):\n",
    "   try: \n",
    "       display(Latex(s))\n",
    "   except: \n",
    "       print(s)\n",
    "def ltxmtx(A, axis = 1):\n",
    "       try: \n",
    "           if isinstance(A, np.ndarray):\n",
    "               A = A.round(4)\n",
    "           M = sym.Matrix(A)\n",
    "           sh = np.array(M.shape)\n",
    "           sz = np.prod(sh)\n",
    "           if sz == np.max(sh):\n",
    "               if axis == 0:\n",
    "                   M=M.reshape(sz,1)\n",
    "               else:\n",
    "                   M=M.reshape(1,sz)\n",
    "           return \" $\"+ sym.latex(M) + \"$ \"\n",
    "       except: \n",
    "           return A\n",
    "       \n",
    "array_f = get_ipython().display_formatter.formatters['text/latex']\n",
    "array_f.for_type('numpy.ndarray',ltxmtx)\n",
    "array_f.for_type('sympy.matrices.dense.MutableDenseMatrix', ltxmtx)"
   ]
  },
  {
   "cell_type": "code",
   "execution_count": 5,
   "metadata": {
    "collapsed": true
   },
   "outputs": [],
   "source": [
    "def compute_absorbed(v, States_in_Recurence=[]):\n",
    "   if States_in_Recurrence == []:\n",
    "       ap = [1,0]\n",
    "   else:\n",
    "       ap = [np.sum(v[states] for states in States_in_Recurrence)]\n",
    "   return np.array(ap)\n",
    "\n",
    "\n",
    "def plot_absorption(absorbed_proportions, Tolerance):\n",
    "   absorbed_proportions = np.array(absorbed_proportions)\n",
    "   absorbed_cumulative = np.sum(absorbed_proportions,axis=1) #total absorbed by all recurrence classes\n",
    "   absorbed_cumulative = absorbed_cumulative[absorbed_cumulative<1-Tolerance] #Remove tail, if simulation continued to run after complete absorption\n",
    "   absorbed_cumulative = np.append(absorbed_cumulative,1.0) #append 1.0 to end\n",
    "   absorbed_marginal = np.diff(absorbed_cumulative) #find \"newly\" absorbed proportion at each step\n",
    "   absorbed_marginal = np.insert(absorbed_marginal,0,absorbed_cumulative[0]) #np.diff shrinks array by 1 entry.  Prepend 0.0\n",
    "   times = np.arange(absorbed_marginal.shape[0])\n",
    "   printltx(r\"Absorbed proportions (by recurrence class) \"+ltxmtx(absorbed_proportions[-1]))\n",
    "   plt.bar(times,absorbed_marginal)\n",
    "   plt.show()\n",
    "   ave = absorbed_marginal.dot(times)\n",
    "   printltx(r\"Mean absorption time is \"+str(ave))\n",
    "   return"
   ]
  },
  {
   "cell_type": "code",
   "execution_count": 15,
   "metadata": {
    "collapsed": true
   },
   "outputs": [],
   "source": [
    "def simulate_samples(P,phi,Steps,Records,Samples, States_in_Recurrence, Tolerance):\n",
    "   States = P.shape[0]\n",
    "   #print(\"\\n\")\n",
    "   printltx(r\"Begin Simulate Samples\")\n",
    "   printltx(r\"Simulating \"+str(Steps)+\" steps with \"+str(Samples)+\" samples.\")\n",
    "   epdf = np.zeros([Records, States], dtype = float)\n",
    "   epdf[0,:] = phi[:]\n",
    "   \n",
    "   ap = compute_absorbed(phi, States_in_Recurrence)\n",
    "   absorbed_proportions = [ap]\n",
    "   \n",
    "   y = np.rint(phi*Samples).astype(int)\n",
    "   Samples = np.sum(y)\n",
    "   X = np.zeros([Records,Samples], dtype = int)\n",
    "   X[0,:] = np.random.choice(States, Samples, p=phi)\n",
    "   \n",
    "   startStep = 0\n",
    "   \n",
    "   while (startStep < Steps | (np.sum(ap) < 1-Tolerance)):\n",
    "       current_step = startStep%Records \n",
    "       next_step = (startStep+1)%Records\n",
    "       for samp in range(Samples):\n",
    "           current_state = X[current_step,samp]\n",
    "           r = np.random.rand()\n",
    "           for next_state in range(States):\n",
    "               r -= P[current_state, next_state]\n",
    "               if r < 0:\n",
    "                   X[next_step, samp] = next_state\n",
    "                   break \n",
    "           v = np.histogram(X[next_step, :], normed=True, bins=range(States+1))[0]\n",
    "           epdf[next_step,:] = v\n",
    "       ap = compute_absorbed(v, States_in_Recurrence)\n",
    "       absorbed_proportions.append(ap)\n",
    "       startStep+=1\n",
    "   epdf = np.roll(epdf,Records-next_step-1,axis=0)\n",
    "   printltx(r\"I did \"+str(Steps)+\" steps with \"+str(Samples)+\" samples. The last \"+str(Records)+\" distributions are written as rows below.\")\n",
    "   display(epdf)\n",
    "   printltx(r\"The average of these distributions is \"+ltxmtx(np.mean(epdf,0)))\n",
    "   avg = np.mean(epdf,0)\n",
    "   printltx(r\"The probability that Nez gets eaten is \"+str(avg[6]))\n",
    "   printltx(r\"The probability that Nez gets home safely is \"+str(avg[8]))\n",
    "   plot_absorption(absorbed_proportions, Tolerance=Tolerance)\n",
    "   return "
   ]
  },
  {
   "cell_type": "code",
   "execution_count": 16,
   "metadata": {
    "collapsed": false
   },
   "outputs": [
    {
     "data": {
      "text/latex": [
       "$P = $ $\\left[\\begin{matrix}0.0 & 0.5 & 0.0 & 0.5 & 0.0 & 0.0 & 0.0 & 0.0 & 0.0\\\\0.3333 & 0.0 & 0.3333 & 0.0 & 0.3333 & 0.0 & 0.0 & 0.0 & 0.0\\\\0.0 & 0.5 & 0.0 & 0.0 & 0.0 & 0.5 & 0.0 & 0.0 & 0.0\\\\0.3333 & 0.0 & 0.0 & 0.0 & 0.3333 & 0.0 & 0.3333 & 0.0 & 0.0\\\\0.0 & 0.25 & 0.0 & 0.25 & 0.0 & 0.25 & 0.0 & 0.25 & 0.0\\\\0.0 & 0.0 & 0.3333 & 0.0 & 0.3333 & 0.0 & 0.0 & 0.0 & 0.3333\\\\0.0 & 0.0 & 0.0 & 0.0 & 0.0 & 0.0 & 1.0 & 0.0 & 0.0\\\\0.0 & 0.0 & 0.0 & 0.0 & 0.3333 & 0.0 & 0.3333 & 0.0 & 0.3333\\\\0.0 & 0.0 & 0.0 & 0.0 & 0.0 & 0.0 & 0.0 & 0.0 & 1.0\\end{matrix}\\right]$ "
      ],
      "text/plain": [
       "<IPython.core.display.Latex object>"
      ]
     },
     "metadata": {},
     "output_type": "display_data"
    },
    {
     "data": {
      "text/latex": [
       "Ned begins in Room 0:"
      ],
      "text/plain": [
       "<IPython.core.display.Latex object>"
      ]
     },
     "metadata": {},
     "output_type": "display_data"
    },
    {
     "data": {
      "text/latex": [
       "Begin Simulate Samples"
      ],
      "text/plain": [
       "<IPython.core.display.Latex object>"
      ]
     },
     "metadata": {},
     "output_type": "display_data"
    },
    {
     "data": {
      "text/latex": [
       "Simulating 500 steps with 500 samples."
      ],
      "text/plain": [
       "<IPython.core.display.Latex object>"
      ]
     },
     "metadata": {},
     "output_type": "display_data"
    },
    {
     "data": {
      "text/latex": [
       "I did 500 steps with 500 samples. The last 10 distributions are written as rows below."
      ],
      "text/plain": [
       "<IPython.core.display.Latex object>"
      ]
     },
     "metadata": {},
     "output_type": "display_data"
    },
    {
     "data": {
      "text/latex": [
       " $\\left[\\begin{matrix}0.0 & 0.0 & 0.0 & 0.0 & 0.0 & 0.0 & 0.632 & 0.0 & 0.368\\\\0.0 & 0.0 & 0.0 & 0.0 & 0.0 & 0.0 & 0.632 & 0.0 & 0.368\\\\0.0 & 0.0 & 0.0 & 0.0 & 0.0 & 0.0 & 0.632 & 0.0 & 0.368\\\\0.0 & 0.0 & 0.0 & 0.0 & 0.0 & 0.0 & 0.632 & 0.0 & 0.368\\\\0.0 & 0.0 & 0.0 & 0.0 & 0.0 & 0.0 & 0.632 & 0.0 & 0.368\\\\0.0 & 0.0 & 0.0 & 0.0 & 0.0 & 0.0 & 0.632 & 0.0 & 0.368\\\\0.0 & 0.0 & 0.0 & 0.0 & 0.0 & 0.0 & 0.632 & 0.0 & 0.368\\\\0.0 & 0.0 & 0.0 & 0.0 & 0.0 & 0.0 & 0.632 & 0.0 & 0.368\\\\0.0 & 0.0 & 0.0 & 0.0 & 0.0 & 0.0 & 0.632 & 0.0 & 0.368\\\\0.0 & 0.0 & 0.0 & 0.0 & 0.0 & 0.0 & 0.632 & 0.0 & 0.368\\end{matrix}\\right]$ "
      ],
      "text/plain": [
       "array([[ 0.   ,  0.   ,  0.   ,  0.   ,  0.   ,  0.   ,  0.632,  0.   ,\n",
       "         0.368],\n",
       "       [ 0.   ,  0.   ,  0.   ,  0.   ,  0.   ,  0.   ,  0.632,  0.   ,\n",
       "         0.368],\n",
       "       [ 0.   ,  0.   ,  0.   ,  0.   ,  0.   ,  0.   ,  0.632,  0.   ,\n",
       "         0.368],\n",
       "       [ 0.   ,  0.   ,  0.   ,  0.   ,  0.   ,  0.   ,  0.632,  0.   ,\n",
       "         0.368],\n",
       "       [ 0.   ,  0.   ,  0.   ,  0.   ,  0.   ,  0.   ,  0.632,  0.   ,\n",
       "         0.368],\n",
       "       [ 0.   ,  0.   ,  0.   ,  0.   ,  0.   ,  0.   ,  0.632,  0.   ,\n",
       "         0.368],\n",
       "       [ 0.   ,  0.   ,  0.   ,  0.   ,  0.   ,  0.   ,  0.632,  0.   ,\n",
       "         0.368],\n",
       "       [ 0.   ,  0.   ,  0.   ,  0.   ,  0.   ,  0.   ,  0.632,  0.   ,\n",
       "         0.368],\n",
       "       [ 0.   ,  0.   ,  0.   ,  0.   ,  0.   ,  0.   ,  0.632,  0.   ,\n",
       "         0.368],\n",
       "       [ 0.   ,  0.   ,  0.   ,  0.   ,  0.   ,  0.   ,  0.632,  0.   ,\n",
       "         0.368]])"
      ]
     },
     "metadata": {},
     "output_type": "display_data"
    },
    {
     "data": {
      "text/latex": [
       "The average of these distributions is  $\\left[\\begin{matrix}0.0 & 0.0 & 0.0 & 0.0 & 0.0 & 0.0 & 0.632 & 0.0 & 0.368\\end{matrix}\\right]$ "
      ],
      "text/plain": [
       "<IPython.core.display.Latex object>"
      ]
     },
     "metadata": {},
     "output_type": "display_data"
    },
    {
     "data": {
      "text/latex": [
       "The probability that Nez gets eaten is 0.632"
      ],
      "text/plain": [
       "<IPython.core.display.Latex object>"
      ]
     },
     "metadata": {},
     "output_type": "display_data"
    },
    {
     "data": {
      "text/latex": [
       "The probability that Nez gets home safely is 0.368"
      ],
      "text/plain": [
       "<IPython.core.display.Latex object>"
      ]
     },
     "metadata": {},
     "output_type": "display_data"
    },
    {
     "data": {
      "text/latex": [
       "Absorbed proportions (by recurrence class)  $\\left[\\begin{matrix}1.0\\end{matrix}\\right]$ "
      ],
      "text/plain": [
       "<IPython.core.display.Latex object>"
      ]
     },
     "metadata": {},
     "output_type": "display_data"
    },
    {
     "data": {
      "image/png": "[encoded data removed]",
      "text/plain": [
       "<matplotlib.figure.Figure at 0x7feb2fb26090>"
      ]
     },
     "metadata": {},
     "output_type": "display_data"
    },
    {
     "data": {
      "text/latex": [
       "Mean absorption time is 8.816"
      ],
      "text/plain": [
       "<IPython.core.display.Latex object>"
      ]
     },
     "metadata": {},
     "output_type": "display_data"
    },
    {
     "name": "stdout",
     "output_type": "stream",
     "text": [
      "\n",
      "\n"
     ]
    },
    {
     "data": {
      "text/latex": [
       "Ned begins in Room 1:"
      ],
      "text/plain": [
       "<IPython.core.display.Latex object>"
      ]
     },
     "metadata": {},
     "output_type": "display_data"
    },
    {
     "data": {
      "text/latex": [
       "Begin Simulate Samples"
      ],
      "text/plain": [
       "<IPython.core.display.Latex object>"
      ]
     },
     "metadata": {},
     "output_type": "display_data"
    },
    {
     "data": {
      "text/latex": [
       "Simulating 500 steps with 500 samples."
      ],
      "text/plain": [
       "<IPython.core.display.Latex object>"
      ]
     },
     "metadata": {},
     "output_type": "display_data"
    },
    {
     "data": {
      "text/latex": [
       "I did 500 steps with 500 samples. The last 10 distributions are written as rows below."
      ],
      "text/plain": [
       "<IPython.core.display.Latex object>"
      ]
     },
     "metadata": {},
     "output_type": "display_data"
    },
    {
     "data": {
      "text/latex": [
       " $\\left[\\begin{matrix}0.0 & 0.0 & 0.0 & 0.0 & 0.0 & 0.0 & 0.476 & 0.0 & 0.524\\\\0.0 & 0.0 & 0.0 & 0.0 & 0.0 & 0.0 & 0.476 & 0.0 & 0.524\\\\0.0 & 0.0 & 0.0 & 0.0 & 0.0 & 0.0 & 0.476 & 0.0 & 0.524\\\\0.0 & 0.0 & 0.0 & 0.0 & 0.0 & 0.0 & 0.476 & 0.0 & 0.524\\\\0.0 & 0.0 & 0.0 & 0.0 & 0.0 & 0.0 & 0.476 & 0.0 & 0.524\\\\0.0 & 0.0 & 0.0 & 0.0 & 0.0 & 0.0 & 0.476 & 0.0 & 0.524\\\\0.0 & 0.0 & 0.0 & 0.0 & 0.0 & 0.0 & 0.476 & 0.0 & 0.524\\\\0.0 & 0.0 & 0.0 & 0.0 & 0.0 & 0.0 & 0.476 & 0.0 & 0.524\\\\0.0 & 0.0 & 0.0 & 0.0 & 0.0 & 0.0 & 0.476 & 0.0 & 0.524\\\\0.0 & 0.0 & 0.0 & 0.0 & 0.0 & 0.0 & 0.476 & 0.0 & 0.524\\end{matrix}\\right]$ "
      ],
      "text/plain": [
       "array([[ 0.   ,  0.   ,  0.   ,  0.   ,  0.   ,  0.   ,  0.476,  0.   ,\n",
       "         0.524],\n",
       "       [ 0.   ,  0.   ,  0.   ,  0.   ,  0.   ,  0.   ,  0.476,  0.   ,\n",
       "         0.524],\n",
       "       [ 0.   ,  0.   ,  0.   ,  0.   ,  0.   ,  0.   ,  0.476,  0.   ,\n",
       "         0.524],\n",
       "       [ 0.   ,  0.   ,  0.   ,  0.   ,  0.   ,  0.   ,  0.476,  0.   ,\n",
       "         0.524],\n",
       "       [ 0.   ,  0.   ,  0.   ,  0.   ,  0.   ,  0.   ,  0.476,  0.   ,\n",
       "         0.524],\n",
       "       [ 0.   ,  0.   ,  0.   ,  0.   ,  0.   ,  0.   ,  0.476,  0.   ,\n",
       "         0.524],\n",
       "       [ 0.   ,  0.   ,  0.   ,  0.   ,  0.   ,  0.   ,  0.476,  0.   ,\n",
       "         0.524],\n",
       "       [ 0.   ,  0.   ,  0.   ,  0.   ,  0.   ,  0.   ,  0.476,  0.   ,\n",
       "         0.524],\n",
       "       [ 0.   ,  0.   ,  0.   ,  0.   ,  0.   ,  0.   ,  0.476,  0.   ,\n",
       "         0.524],\n",
       "       [ 0.   ,  0.   ,  0.   ,  0.   ,  0.   ,  0.   ,  0.476,  0.   ,\n",
       "         0.524]])"
      ]
     },
     "metadata": {},
     "output_type": "display_data"
    },
    {
     "data": {
      "text/latex": [
       "The average of these distributions is  $\\left[\\begin{matrix}0.0 & 0.0 & 0.0 & 0.0 & 0.0 & 0.0 & 0.476 & 0.0 & 0.524\\end{matrix}\\right]$ "
      ],
      "text/plain": [
       "<IPython.core.display.Latex object>"
      ]
     },
     "metadata": {},
     "output_type": "display_data"
    },
    {
     "data": {
      "text/latex": [
       "The probability that Nez gets eaten is 0.476"
      ],
      "text/plain": [
       "<IPython.core.display.Latex object>"
      ]
     },
     "metadata": {},
     "output_type": "display_data"
    },
    {
     "data": {
      "text/latex": [
       "The probability that Nez gets home safely is 0.524"
      ],
      "text/plain": [
       "<IPython.core.display.Latex object>"
      ]
     },
     "metadata": {},
     "output_type": "display_data"
    },
    {
     "data": {
      "text/latex": [
       "Absorbed proportions (by recurrence class)  $\\left[\\begin{matrix}1.0\\end{matrix}\\right]$ "
      ],
      "text/plain": [
       "<IPython.core.display.Latex object>"
      ]
     },
     "metadata": {},
     "output_type": "display_data"
    },
    {
     "data": {
      "image/png": "[encoded data removed]",
      "text/plain": [
       "<matplotlib.figure.Figure at 0x7feb2f926910>"
      ]
     },
     "metadata": {},
     "output_type": "display_data"
    },
    {
     "data": {
      "text/latex": [
       "Mean absorption time is 9.352"
      ],
      "text/plain": [
       "<IPython.core.display.Latex object>"
      ]
     },
     "metadata": {},
     "output_type": "display_data"
    },
    {
     "name": "stdout",
     "output_type": "stream",
     "text": [
      "\n",
      "\n"
     ]
    },
    {
     "data": {
      "text/latex": [
       "Ned begins in Room 5:"
      ],
      "text/plain": [
       "<IPython.core.display.Latex object>"
      ]
     },
     "metadata": {},
     "output_type": "display_data"
    },
    {
     "data": {
      "text/latex": [
       "Begin Simulate Samples"
      ],
      "text/plain": [
       "<IPython.core.display.Latex object>"
      ]
     },
     "metadata": {},
     "output_type": "display_data"
    },
    {
     "data": {
      "text/latex": [
       "Simulating 500 steps with 500 samples."
      ],
      "text/plain": [
       "<IPython.core.display.Latex object>"
      ]
     },
     "metadata": {},
     "output_type": "display_data"
    },
    {
     "data": {
      "text/latex": [
       "I did 500 steps with 500 samples. The last 10 distributions are written as rows below."
      ],
      "text/plain": [
       "<IPython.core.display.Latex object>"
      ]
     },
     "metadata": {},
     "output_type": "display_data"
    },
    {
     "data": {
      "text/latex": [
       " $\\left[\\begin{matrix}0.0 & 0.0 & 0.0 & 0.0 & 0.0 & 0.0 & 0.286 & 0.0 & 0.714\\\\0.0 & 0.0 & 0.0 & 0.0 & 0.0 & 0.0 & 0.286 & 0.0 & 0.714\\\\0.0 & 0.0 & 0.0 & 0.0 & 0.0 & 0.0 & 0.286 & 0.0 & 0.714\\\\0.0 & 0.0 & 0.0 & 0.0 & 0.0 & 0.0 & 0.286 & 0.0 & 0.714\\\\0.0 & 0.0 & 0.0 & 0.0 & 0.0 & 0.0 & 0.286 & 0.0 & 0.714\\\\0.0 & 0.0 & 0.0 & 0.0 & 0.0 & 0.0 & 0.286 & 0.0 & 0.714\\\\0.0 & 0.0 & 0.0 & 0.0 & 0.0 & 0.0 & 0.286 & 0.0 & 0.714\\\\0.0 & 0.0 & 0.0 & 0.0 & 0.0 & 0.0 & 0.286 & 0.0 & 0.714\\\\0.0 & 0.0 & 0.0 & 0.0 & 0.0 & 0.0 & 0.286 & 0.0 & 0.714\\\\0.0 & 0.0 & 0.0 & 0.0 & 0.0 & 0.0 & 0.286 & 0.0 & 0.714\\end{matrix}\\right]$ "
      ],
      "text/plain": [
       "array([[ 0.   ,  0.   ,  0.   ,  0.   ,  0.   ,  0.   ,  0.286,  0.   ,\n",
       "         0.714],\n",
       "       [ 0.   ,  0.   ,  0.   ,  0.   ,  0.   ,  0.   ,  0.286,  0.   ,\n",
       "         0.714],\n",
       "       [ 0.   ,  0.   ,  0.   ,  0.   ,  0.   ,  0.   ,  0.286,  0.   ,\n",
       "         0.714],\n",
       "       [ 0.   ,  0.   ,  0.   ,  0.   ,  0.   ,  0.   ,  0.286,  0.   ,\n",
       "         0.714],\n",
       "       [ 0.   ,  0.   ,  0.   ,  0.   ,  0.   ,  0.   ,  0.286,  0.   ,\n",
       "         0.714],\n",
       "       [ 0.   ,  0.   ,  0.   ,  0.   ,  0.   ,  0.   ,  0.286,  0.   ,\n",
       "         0.714],\n",
       "       [ 0.   ,  0.   ,  0.   ,  0.   ,  0.   ,  0.   ,  0.286,  0.   ,\n",
       "         0.714],\n",
       "       [ 0.   ,  0.   ,  0.   ,  0.   ,  0.   ,  0.   ,  0.286,  0.   ,\n",
       "         0.714],\n",
       "       [ 0.   ,  0.   ,  0.   ,  0.   ,  0.   ,  0.   ,  0.286,  0.   ,\n",
       "         0.714],\n",
       "       [ 0.   ,  0.   ,  0.   ,  0.   ,  0.   ,  0.   ,  0.286,  0.   ,\n",
       "         0.714]])"
      ]
     },
     "metadata": {},
     "output_type": "display_data"
    },
    {
     "data": {
      "text/latex": [
       "The average of these distributions is  $\\left[\\begin{matrix}0.0 & 0.0 & 0.0 & 0.0 & 0.0 & 0.0 & 0.286 & 0.0 & 0.714\\end{matrix}\\right]$ "
      ],
      "text/plain": [
       "<IPython.core.display.Latex object>"
      ]
     },
     "metadata": {},
     "output_type": "display_data"
    },
    {
     "data": {
      "text/latex": [
       "The probability that Nez gets eaten is 0.286"
      ],
      "text/plain": [
       "<IPython.core.display.Latex object>"
      ]
     },
     "metadata": {},
     "output_type": "display_data"
    },
    {
     "data": {
      "text/latex": [
       "The probability that Nez gets home safely is 0.714"
      ],
      "text/plain": [
       "<IPython.core.display.Latex object>"
      ]
     },
     "metadata": {},
     "output_type": "display_data"
    },
    {
     "data": {
      "text/latex": [
       "Absorbed proportions (by recurrence class)  $\\left[\\begin{matrix}1.0\\end{matrix}\\right]$ "
      ],
      "text/plain": [
       "<IPython.core.display.Latex object>"
      ]
     },
     "metadata": {},
     "output_type": "display_data"
    },
    {
     "data": {
      "image/png": "[encoded data removed]",
      "text/plain": [
       "<matplotlib.figure.Figure at 0x7feb2fc216d0>"
      ]
     },
     "metadata": {},
     "output_type": "display_data"
    },
    {
     "data": {
      "text/latex": [
       "Mean absorption time is 6.476"
      ],
      "text/plain": [
       "<IPython.core.display.Latex object>"
      ]
     },
     "metadata": {},
     "output_type": "display_data"
    }
   ],
   "source": [
    "States = 9\n",
    "phi_zero = np.array([1,0,0,0,0,0,0,0,0])\n",
    "phi_one = np.array([0,1,0,0,0,0,0,0,0])\n",
    "phi_five = np.array([0,0,0,0,0,1,0,0,0])\n",
    "\n",
    "P = np.array([[0,.5,0,.5,0,0,0,0,0],[1/3,0,1/3,0,1/3,0,0,0,0],[0,.5,0,0,0,.5,0,0,0],\n",
    "             [1/3,0,0,0,1/3,0,1/3,0,0],[0,.25,0,.25,0,.25,0,.25,0],[0,0,1/3,0,1/3,0,0,0,1/3],\n",
    "             [0,0,0,0,0,0,1,0,0],[0,0,0,0,1/3,0,1/3,0,1/3],[0,0,0,0,0,0,0,0,1]])\n",
    "printltx(r\"$P = $\"+ltxmtx(P))\n",
    "\n",
    "#P = normalize_rows(P)\n",
    "#P,phi,Steps,Records,Samples, States_in_Recurrence, Tolerance\n",
    "\n",
    "Steps = 500\n",
    "Records = 10 #to manage memory, just keep the 10 most recent \"records\"\n",
    "Samples = 500\n",
    "tol = 0.0001\n",
    "States_in_Recurrence = [[6],[8]]\n",
    "\n",
    "\n",
    "printltx(r\"Ned begins in Room 0:\")\n",
    "simulate_samples(P, phi_zero, Steps, Records, Samples, States_in_Recurrence, tol)\n",
    "print(\"\\n\")\n",
    "printltx(r\"Ned begins in Room 1:\")\n",
    "simulate_samples(P, phi_one, Steps, Records, Samples, States_in_Recurrence, tol)\n",
    "print(\"\\n\")\n",
    "printltx(r\"Ned begins in Room 5:\")\n",
    "simulate_samples(P, phi_five, Steps, Records, Samples, States_in_Recurrence, tol)"
   ]
  },
  {
   "cell_type": "code",
   "execution_count": null,
   "metadata": {
    "collapsed": true
   },
   "outputs": [],
   "source": []
  }
 ],
 "metadata": {
  "kernelspec": {
   "display_name": "Python 2 (SageMath)",
   "language": "python",
   "name": "python2"
  },
  "language_info": {
   "codemirror_mode": {
    "name": "ipython",
    "version": 2
   },
   "file_extension": ".py",
   "mimetype": "text/x-python",
   "name": "python",
   "nbconvert_exporter": "python",
   "pygments_lexer": "ipython2",
   "version": "2.7.10"
  }
 },
 "nbformat": 4,
 "nbformat_minor": 0
}
