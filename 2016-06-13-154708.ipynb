{
 "cells": [
  {
   "cell_type": "code",
   "execution_count": 9,
   "metadata": {
    "collapsed": false
   },
   "outputs": [],
   "source": [
    "\"\"\"\n",
    "Juliann Booth\n",
    "Homework 1\n",
    "June 22, 2016\n",
    "\"\"\"\n",
    "\n",
    "from IPython.display import display, Latex, Math, Markdown\n",
    "import numpy as np\n",
    "import sympy as sym\n",
    "sym.init_printing()\n",
    "def printltx(s):\n",
    "   try: \n",
    "       display(Latex(s))\n",
    "   except: \n",
    "       print(s)\n",
    "def ltxmtx(A, axis = 1):\n",
    "       try: \n",
    "           if isinstance(A, np.ndarray):\n",
    "               A = A.round(4)\n",
    "           M = sym.Matrix(A)\n",
    "           sh = np.array(M.shape)\n",
    "           sz = np.prod(sh)\n",
    "           if sz == np.max(sh):\n",
    "               if axis == 0:\n",
    "                   M=M.reshape(sz,1)\n",
    "               else:\n",
    "                   M=M.reshape(1,sz)\n",
    "           return \" $\"+ sym.latex(M) + \"$ \"\n",
    "       except: \n",
    "           return A\n",
    "       \n",
    "array_f = get_ipython().display_formatter.formatters['text/latex']\n",
    "array_f.for_type('numpy.ndarray',ltxmtx)\n",
    "array_f.for_type('sympy.matrices.dense.MutableDenseMatrix', ltxmtx)\n",
    "\n",
    "\n",
    "\"\"\"method 1: simulate a large number of samples\"\"\"\n",
    "def simulate_samples(P, phi, Steps, Records, Samples):\n",
    "    \"\"\"Evolves the system by simulating many sample paths\"\"\"\n",
    "    print(\"\\n\")\n",
    "    printltx(r\"Method 1: Simulating \"+str(Steps)+\" steps with \" +str(Samples)+\" samples.\")\n",
    "    epdf = np.zeros([Records,States],dtype=float)\n",
    "    epdf[0,:] = phi[:]\n",
    "    \n",
    "    y = np.rint(phi*Samples).astype(int)\n",
    "    Samples = np.sum(y)\n",
    "    X = np.zeros([Records,Samples], dtype=int)\n",
    "    \n",
    "    i1=0\n",
    "    for j in range(States):\n",
    "        i2 = i1 + y[j]\n",
    "        X[0,i1:i2]=j\n",
    "        i1=i2\n",
    "    np.random.shuffle(X[0,:])\n",
    "    \n",
    "    for step in range(Steps):\n",
    "        current_step = step%Records\n",
    "        next_step = (step+1)%Records\n",
    "        for samp in range(Samples):\n",
    "            current_state = X[current_step, samp]\n",
    "            r=np.random.rand()\n",
    "            for next_state in range(States):\n",
    "                r-= P[current_state,next_state]\n",
    "                if r <0 :\n",
    "                    X[next_step,samp] = next_state\n",
    "                    break\n",
    "        epdf[next_step,:] = np.histogram(X[next_step,:], normed=True, bins=range(States+1))[0]\n",
    "    epdf = np.roll(epdf,Records-next_step-1,axis=0)\n",
    "    printltx(r\"I did \"+str(Steps)+\" steps with \"+str(Samples)+\" samples. The last \"+str(Records)+\" distributions are written as rows below.\")\n",
    "    #display(epdf)\n",
    "    printltx(ltxmtx(epdf))\n",
    "    printltx(r\"The average of these distributions is \"+ltxmtx(np.mean(epdf,0)))\n",
    "        \n",
    "\"\"\"Method 2: evolve the distribution using matrix multiplication\"\"\"\n",
    "def matrix_evolution(P, phi, Steps, Records):\n",
    "    \"\"\"Evolves the system via matrix multiplication\"\"\"\n",
    "    print(\"\\n\")\n",
    "    printltx(r\"Method 2: Evolving \"+str(Steps)+\" steps via matrix multiplication.\")\n",
    "    tpdf = np.zeros([Records,States],dtype=float)\n",
    "    tpdf[0,:]=phi[:]\n",
    "    for step in range(Steps):\n",
    "        current_step=step%Records\n",
    "        next_step = (step+1)%Records\n",
    "        tpdf[next_step,:] = tpdf[current_step,:].dot(P)\n",
    "    tpdf=np.roll(tpdf, Records-next_step-1, axis=0)\n",
    "    printltx(r\"I did \"+str(Steps)+\" steps. The last \"+str(Records)+ \" distributions are written as rows below.\")\n",
    "    #display(tpdf)\n",
    "    printltx(ltxmtx(tpdf))\n",
    "    printltx(r\"The average of these distributions is \"+ltxmtx(np.mean(tpdf,0)))\n",
    "    \n",
    "\"\"\"Function to make sure that eigenvectors are normalized since Python will usually give scalar multiples\"\"\"\n",
    "def normalize_rows(L):\n",
    "    tol=0.001\n",
    "    n=L.shape[0]\n",
    "    for i in range(n):\n",
    "        s=np.sum(L[i,:])\n",
    "        if abs(s) > tol:\n",
    "            L[i,:]*=1/s\n",
    "        else:\n",
    "            for j in range(n):\n",
    "                if abs(L[i,j]) > tol:\n",
    "                    L[i,:] *= 1/L[i,j]\n",
    "                    break\n",
    "    return L\n",
    "\n",
    "\"\"\"Method 3: Use eigenvectors/eigenvalues\"\"\"\n",
    "def eigen_future(P,phi):\n",
    "    \"\"\"Long term behavior via eigenvectors and eigenvalues\"\"\"\n",
    "    print(\"\\n\")\n",
    "    printltx(r\"Method 3: Using eigenvectors and eigenvalues to find long term behavior.\")\n",
    "    (evals,RT) = np.linalg.eig(P.T)\n",
    "    L=RT.T\n",
    "    \"\"\"sort eigenvalues so that largest is first and descends with length\"\"\"\n",
    "    Len = np.abs(evals).round(4)\n",
    "    Re = np.real(evals).round(4)\n",
    "    Im = np.imag(evals).round(4)\n",
    "    sort = np.lexsort([Im,Re,Len]) \n",
    "    sort = sort[::-1] #this is needed because lexsort sorts in ascending but we want descending.\n",
    "    evals = evals[sort]\n",
    "    L = L[sort]\n",
    "    Len=Len[sort]\n",
    "            \n",
    "    L = normalize_rows(L)\n",
    "    R=np.linalg.inv(L)\n",
    "    D=np.diag(evals)\n",
    "    printltx(r\"left eigenvectors = rows of \"+ltxmtx(L)+\", $\\lambda =$\"+ltxmtx(evals,0)+\", $|\\lambda| =$\"+ltxmtx(np.abs(evals),0)) \n",
    "    \n",
    "    States = P.shape[0]\n",
    "    trans = Len<1\n",
    "    Period = States-np.sum(trans)\n",
    "    Dp=D.copy()\n",
    "    Dp[:,trans] = 0\n",
    "    pdf = np.zeros([Period, States])\n",
    "    for step in range(Period):\n",
    "        pdf[step,:] = phi.dot(R).dot(Dp**(step+1)).dot(L)\n",
    "    printltx(r\"The analysis via eigenvectors says that, in the long run, this system should land in the distribution below (If more than one row, the system will land in only one).\")\n",
    "    #display(pdf)\n",
    "    printltx(ltxmtx(pdf))\n",
    "    printltx(r\"The average of these distributions is \"+ltxmtx(np.mean(pdf,0)))\n",
    "    return R,D,L"
   ]
  },
  {
   "cell_type": "code",
   "execution_count": 10,
   "metadata": {
    "collapsed": false
   },
   "outputs": [
    {
     "data": {
      "text/latex": [
       "Below are examples using an Absorbing Boundary Condition"
      ],
      "text/plain": [
       "<IPython.core.display.Latex object>"
      ]
     },
     "metadata": {},
     "output_type": "display_data"
    },
    {
     "name": "stdout",
     "output_type": "stream",
     "text": [
      "\n",
      "\n"
     ]
    },
    {
     "data": {
      "text/latex": [
       "Method 1: Simulating 1000 steps with 1000 samples."
      ],
      "text/plain": [
       "<IPython.core.display.Latex object>"
      ]
     },
     "metadata": {},
     "output_type": "display_data"
    },
    {
     "data": {
      "text/latex": [
       "I did 1000 steps with 1000 samples. The last 15 distributions are written as rows below."
      ],
      "text/plain": [
       "<IPython.core.display.Latex object>"
      ]
     },
     "metadata": {},
     "output_type": "display_data"
    },
    {
     "data": {
      "text/latex": [
       " $\\left[\\begin{matrix}0.305 & 0.0 & 0.0 & 0.0 & 0.695\\\\0.305 & 0.0 & 0.0 & 0.0 & 0.695\\\\0.305 & 0.0 & 0.0 & 0.0 & 0.695\\\\0.305 & 0.0 & 0.0 & 0.0 & 0.695\\\\0.305 & 0.0 & 0.0 & 0.0 & 0.695\\\\0.305 & 0.0 & 0.0 & 0.0 & 0.695\\\\0.305 & 0.0 & 0.0 & 0.0 & 0.695\\\\0.305 & 0.0 & 0.0 & 0.0 & 0.695\\\\0.305 & 0.0 & 0.0 & 0.0 & 0.695\\\\0.305 & 0.0 & 0.0 & 0.0 & 0.695\\\\0.305 & 0.0 & 0.0 & 0.0 & 0.695\\\\0.305 & 0.0 & 0.0 & 0.0 & 0.695\\\\0.305 & 0.0 & 0.0 & 0.0 & 0.695\\\\0.305 & 0.0 & 0.0 & 0.0 & 0.695\\\\0.305 & 0.0 & 0.0 & 0.0 & 0.695\\end{matrix}\\right]$ "
      ],
      "text/plain": [
       "<IPython.core.display.Latex object>"
      ]
     },
     "metadata": {},
     "output_type": "display_data"
    },
    {
     "data": {
      "text/latex": [
       "The average of these distributions is  $\\left[\\begin{matrix}0.305 & 0.0 & 0.0 & 0.0 & 0.695\\end{matrix}\\right]$ "
      ],
      "text/plain": [
       "<IPython.core.display.Latex object>"
      ]
     },
     "metadata": {},
     "output_type": "display_data"
    },
    {
     "name": "stdout",
     "output_type": "stream",
     "text": [
      "\n",
      "\n"
     ]
    },
    {
     "data": {
      "text/latex": [
       "Method 2: Evolving 1000 steps via matrix multiplication."
      ],
      "text/plain": [
       "<IPython.core.display.Latex object>"
      ]
     },
     "metadata": {},
     "output_type": "display_data"
    },
    {
     "data": {
      "text/latex": [
       "I did 1000 steps. The last 15 distributions are written as rows below."
      ],
      "text/plain": [
       "<IPython.core.display.Latex object>"
      ]
     },
     "metadata": {},
     "output_type": "display_data"
    },
    {
     "data": {
      "text/latex": [
       " $\\left[\\begin{matrix}0.3077 & 0.0 & 0.0 & 0.0 & 0.6923\\\\0.3077 & 0.0 & 0.0 & 0.0 & 0.6923\\\\0.3077 & 0.0 & 0.0 & 0.0 & 0.6923\\\\0.3077 & 0.0 & 0.0 & 0.0 & 0.6923\\\\0.3077 & 0.0 & 0.0 & 0.0 & 0.6923\\\\0.3077 & 0.0 & 0.0 & 0.0 & 0.6923\\\\0.3077 & 0.0 & 0.0 & 0.0 & 0.6923\\\\0.3077 & 0.0 & 0.0 & 0.0 & 0.6923\\\\0.3077 & 0.0 & 0.0 & 0.0 & 0.6923\\\\0.3077 & 0.0 & 0.0 & 0.0 & 0.6923\\\\0.3077 & 0.0 & 0.0 & 0.0 & 0.6923\\\\0.3077 & 0.0 & 0.0 & 0.0 & 0.6923\\\\0.3077 & 0.0 & 0.0 & 0.0 & 0.6923\\\\0.3077 & 0.0 & 0.0 & 0.0 & 0.6923\\\\0.3077 & 0.0 & 0.0 & 0.0 & 0.6923\\end{matrix}\\right]$ "
      ],
      "text/plain": [
       "<IPython.core.display.Latex object>"
      ]
     },
     "metadata": {},
     "output_type": "display_data"
    },
    {
     "data": {
      "text/latex": [
       "The average of these distributions is  $\\left[\\begin{matrix}0.3077 & 0.0 & 0.0 & 0.0 & 0.6923\\end{matrix}\\right]$ "
      ],
      "text/plain": [
       "<IPython.core.display.Latex object>"
      ]
     },
     "metadata": {},
     "output_type": "display_data"
    },
    {
     "name": "stdout",
     "output_type": "stream",
     "text": [
      "\n",
      "\n"
     ]
    },
    {
     "data": {
      "text/latex": [
       "Method 3: Using eigenvectors and eigenvalues to find long term behavior."
      ],
      "text/plain": [
       "<IPython.core.display.Latex object>"
      ]
     },
     "metadata": {},
     "output_type": "display_data"
    },
    {
     "data": {
      "text/latex": [
       "left eigenvectors = rows of  $\\left[\\begin{matrix}0.0 & 0.0 & 0.0 & 0.0 & 1.0\\\\1.0 & 0.0 & 0.0 & 0.0 & 0.0\\\\1.0 & -0.7679 & -1.3301 & -1.1519 & 2.25\\\\1.0 & -4.2321 & 7.3301 & -6.3481 & 2.25\\\\1.0 & -2.5 & 0.0 & 3.75 & -2.25\\end{matrix}\\right]$ , $\\lambda =$ $\\left[\\begin{matrix}1.0\\\\1.0\\\\0.6928\\\\-0.6928\\\\0.0\\end{matrix}\\right]$ , $|\\lambda| =$ $\\left[\\begin{matrix}1.0\\\\1.0\\\\0.6928\\\\0.6928\\\\0.0\\end{matrix}\\right]$ "
      ],
      "text/plain": [
       "<IPython.core.display.Latex object>"
      ]
     },
     "metadata": {},
     "output_type": "display_data"
    },
    {
     "data": {
      "text/latex": [
       "The analysis via eigenvectors says that, in the long run, this system should land in the distribution below (If more than one row, the system will land in only one)."
      ],
      "text/plain": [
       "<IPython.core.display.Latex object>"
      ]
     },
     "metadata": {},
     "output_type": "display_data"
    },
    {
     "data": {
      "text/latex": [
       " $\\left[\\begin{matrix}0.3077 & 0.0 & 0.0 & 0.0 & 0.6923\\\\0.3077 & 0.0 & 0.0 & 0.0 & 0.6923\\end{matrix}\\right]$ "
      ],
      "text/plain": [
       "<IPython.core.display.Latex object>"
      ]
     },
     "metadata": {},
     "output_type": "display_data"
    },
    {
     "data": {
      "text/latex": [
       "The average of these distributions is  $\\left[\\begin{matrix}0.3077 & 0.0 & 0.0 & 0.0 & 0.6923\\end{matrix}\\right]$ "
      ],
      "text/plain": [
       "<IPython.core.display.Latex object>"
      ]
     },
     "metadata": {},
     "output_type": "display_data"
    },
    {
     "data": {
      "text/latex": [
       "Below are examples using a Reflecting Boundary Condition"
      ],
      "text/plain": [
       "<IPython.core.display.Latex object>"
      ]
     },
     "metadata": {},
     "output_type": "display_data"
    },
    {
     "name": "stdout",
     "output_type": "stream",
     "text": [
      "\n",
      "\n"
     ]
    },
    {
     "data": {
      "text/latex": [
       "Method 1: Simulating 1000 steps with 1000 samples."
      ],
      "text/plain": [
       "<IPython.core.display.Latex object>"
      ]
     },
     "metadata": {},
     "output_type": "display_data"
    },
    {
     "data": {
      "text/latex": [
       "I did 1000 steps with 1000 samples. The last 15 distributions are written as rows below."
      ],
      "text/plain": [
       "<IPython.core.display.Latex object>"
      ]
     },
     "metadata": {},
     "output_type": "display_data"
    },
    {
     "data": {
      "text/latex": [
       " $\\left[\\begin{matrix}0.142 & 0.0 & 0.434 & 0.0 & 0.424\\\\0.0 & 0.311 & 0.0 & 0.689 & 0.0\\\\0.113 & 0.0 & 0.466 & 0.0 & 0.421\\\\0.0 & 0.291 & 0.0 & 0.709 & 0.0\\\\0.108 & 0.0 & 0.462 & 0.0 & 0.43\\\\0.0 & 0.298 & 0.0 & 0.702 & 0.0\\\\0.111 & 0.0 & 0.462 & 0.0 & 0.427\\\\0.0 & 0.302 & 0.0 & 0.698 & 0.0\\\\0.113 & 0.0 & 0.479 & 0.0 & 0.408\\\\0.0 & 0.302 & 0.0 & 0.698 & 0.0\\\\0.12 & 0.0 & 0.448 & 0.0 & 0.432\\\\0.0 & 0.289 & 0.0 & 0.711 & 0.0\\\\0.122 & 0.0 & 0.459 & 0.0 & 0.419\\\\0.0 & 0.313 & 0.0 & 0.687 & 0.0\\\\0.126 & 0.0 & 0.464 & 0.0 & 0.41\\end{matrix}\\right]$ "
      ],
      "text/plain": [
       "<IPython.core.display.Latex object>"
      ]
     },
     "metadata": {},
     "output_type": "display_data"
    },
    {
     "data": {
      "text/latex": [
       "The average of these distributions is  $\\left[\\begin{matrix}0.0637 & 0.1404 & 0.2449 & 0.3263 & 0.2247\\end{matrix}\\right]$ "
      ],
      "text/plain": [
       "<IPython.core.display.Latex object>"
      ]
     },
     "metadata": {},
     "output_type": "display_data"
    },
    {
     "name": "stdout",
     "output_type": "stream",
     "text": [
      "\n",
      "\n"
     ]
    },
    {
     "data": {
      "text/latex": [
       "Method 2: Evolving 1000 steps via matrix multiplication."
      ],
      "text/plain": [
       "<IPython.core.display.Latex object>"
      ]
     },
     "metadata": {},
     "output_type": "display_data"
    },
    {
     "data": {
      "text/latex": [
       "I did 1000 steps. The last 15 distributions are written as rows below."
      ],
      "text/plain": [
       "<IPython.core.display.Latex object>"
      ]
     },
     "metadata": {},
     "output_type": "display_data"
    },
    {
     "data": {
      "text/latex": [
       " $\\left[\\begin{matrix}0.1231 & 0.0 & 0.4615 & 0.0 & 0.4154\\\\0.0 & 0.3077 & 0.0 & 0.6923 & 0.0\\\\0.1231 & 0.0 & 0.4615 & 0.0 & 0.4154\\\\0.0 & 0.3077 & 0.0 & 0.6923 & 0.0\\\\0.1231 & 0.0 & 0.4615 & 0.0 & 0.4154\\\\0.0 & 0.3077 & 0.0 & 0.6923 & 0.0\\\\0.1231 & 0.0 & 0.4615 & 0.0 & 0.4154\\\\0.0 & 0.3077 & 0.0 & 0.6923 & 0.0\\\\0.1231 & 0.0 & 0.4615 & 0.0 & 0.4154\\\\0.0 & 0.3077 & 0.0 & 0.6923 & 0.0\\\\0.1231 & 0.0 & 0.4615 & 0.0 & 0.4154\\\\0.0 & 0.3077 & 0.0 & 0.6923 & 0.0\\\\0.1231 & 0.0 & 0.4615 & 0.0 & 0.4154\\\\0.0 & 0.3077 & 0.0 & 0.6923 & 0.0\\\\0.1231 & 0.0 & 0.4615 & 0.0 & 0.4154\\end{matrix}\\right]$ "
      ],
      "text/plain": [
       "<IPython.core.display.Latex object>"
      ]
     },
     "metadata": {},
     "output_type": "display_data"
    },
    {
     "data": {
      "text/latex": [
       "The average of these distributions is  $\\left[\\begin{matrix}0.0656 & 0.1436 & 0.2462 & 0.3231 & 0.2215\\end{matrix}\\right]$ "
      ],
      "text/plain": [
       "<IPython.core.display.Latex object>"
      ]
     },
     "metadata": {},
     "output_type": "display_data"
    },
    {
     "name": "stdout",
     "output_type": "stream",
     "text": [
      "\n",
      "\n"
     ]
    },
    {
     "data": {
      "text/latex": [
       "Method 3: Using eigenvectors and eigenvalues to find long term behavior."
      ],
      "text/plain": [
       "<IPython.core.display.Latex object>"
      ]
     },
     "metadata": {},
     "output_type": "display_data"
    },
    {
     "data": {
      "text/latex": [
       "left eigenvectors = rows of  $\\left[\\begin{matrix}0.0615 & 0.1538 & 0.2308 & 0.3462 & 0.2077\\\\1.0 & -2.5 & 3.75 & -5.625 & 3.375\\\\1.0 & 1.7321 & 0.5 & -1.7321 & -1.5\\\\1.0 & -1.7321 & 0.5 & 1.7321 & -1.5\\\\1.0 & 0.0 & -2.5 & 0.0 & 1.5\\end{matrix}\\right]$ , $\\lambda =$ $\\left[\\begin{matrix}1.0\\\\-1.0\\\\0.6928\\\\-0.6928\\\\0.0\\end{matrix}\\right]$ , $|\\lambda| =$ $\\left[\\begin{matrix}1.0\\\\1.0\\\\0.6928\\\\0.6928\\\\0.0\\end{matrix}\\right]$ "
      ],
      "text/plain": [
       "<IPython.core.display.Latex object>"
      ]
     },
     "metadata": {},
     "output_type": "display_data"
    },
    {
     "data": {
      "text/latex": [
       "The analysis via eigenvectors says that, in the long run, this system should land in the distribution below (If more than one row, the system will land in only one)."
      ],
      "text/plain": [
       "<IPython.core.display.Latex object>"
      ]
     },
     "metadata": {},
     "output_type": "display_data"
    },
    {
     "data": {
      "text/latex": [
       " $\\left[\\begin{matrix}0.0 & 0.3077 & 0.0 & 0.6923 & 0.0\\\\0.1231 & 0.0 & 0.4615 & 0.0 & 0.4154\\end{matrix}\\right]$ "
      ],
      "text/plain": [
       "<IPython.core.display.Latex object>"
      ]
     },
     "metadata": {},
     "output_type": "display_data"
    },
    {
     "data": {
      "text/latex": [
       "The average of these distributions is  $\\left[\\begin{matrix}0.0615 & 0.1538 & 0.2308 & 0.3462 & 0.2077\\end{matrix}\\right]$ "
      ],
      "text/plain": [
       "<IPython.core.display.Latex object>"
      ]
     },
     "metadata": {},
     "output_type": "display_data"
    },
    {
     "data": {
      "text/latex": [
       "Below are examples using a Semi-Reflecting Boundary Condition"
      ],
      "text/plain": [
       "<IPython.core.display.Latex object>"
      ]
     },
     "metadata": {},
     "output_type": "display_data"
    },
    {
     "name": "stdout",
     "output_type": "stream",
     "text": [
      "\n",
      "\n"
     ]
    },
    {
     "data": {
      "text/latex": [
       "Method 1: Simulating 1000 steps with 1000 samples."
      ],
      "text/plain": [
       "<IPython.core.display.Latex object>"
      ]
     },
     "metadata": {},
     "output_type": "display_data"
    },
    {
     "data": {
      "text/latex": [
       "I did 1000 steps with 1000 samples. The last 15 distributions are written as rows below."
      ],
      "text/plain": [
       "<IPython.core.display.Latex object>"
      ]
     },
     "metadata": {},
     "output_type": "display_data"
    },
    {
     "data": {
      "text/latex": [
       " $\\left[\\begin{matrix}0.085 & 0.113 & 0.169 & 0.259 & 0.374\\\\0.069 & 0.121 & 0.186 & 0.249 & 0.375\\\\0.059 & 0.132 & 0.188 & 0.266 & 0.355\\\\0.085 & 0.109 & 0.176 & 0.261 & 0.369\\\\0.084 & 0.121 & 0.173 & 0.234 & 0.388\\\\0.078 & 0.121 & 0.173 & 0.265 & 0.363\\\\0.075 & 0.126 & 0.162 & 0.244 & 0.393\\\\0.081 & 0.123 & 0.156 & 0.247 & 0.393\\\\0.08 & 0.117 & 0.171 & 0.254 & 0.378\\\\0.073 & 0.121 & 0.185 & 0.255 & 0.366\\\\0.083 & 0.114 & 0.164 & 0.272 & 0.367\\\\0.078 & 0.121 & 0.19 & 0.243 & 0.368\\\\0.082 & 0.117 & 0.17 & 0.267 & 0.364\\\\0.075 & 0.121 & 0.176 & 0.255 & 0.373\\\\0.076 & 0.112 & 0.19 & 0.257 & 0.365\\end{matrix}\\right]$ "
      ],
      "text/plain": [
       "<IPython.core.display.Latex object>"
      ]
     },
     "metadata": {},
     "output_type": "display_data"
    },
    {
     "data": {
      "text/latex": [
       "The average of these distributions is  $\\left[\\begin{matrix}0.0775 & 0.1193 & 0.1753 & 0.2552 & 0.3727\\end{matrix}\\right]$ "
      ],
      "text/plain": [
       "<IPython.core.display.Latex object>"
      ]
     },
     "metadata": {},
     "output_type": "display_data"
    },
    {
     "name": "stdout",
     "output_type": "stream",
     "text": [
      "\n",
      "\n"
     ]
    },
    {
     "data": {
      "text/latex": [
       "Method 2: Evolving 1000 steps via matrix multiplication."
      ],
      "text/plain": [
       "<IPython.core.display.Latex object>"
      ]
     },
     "metadata": {},
     "output_type": "display_data"
    },
    {
     "data": {
      "text/latex": [
       "I did 1000 steps. The last 15 distributions are written as rows below."
      ],
      "text/plain": [
       "<IPython.core.display.Latex object>"
      ]
     },
     "metadata": {},
     "output_type": "display_data"
    },
    {
     "data": {
      "text/latex": [
       " $\\left[\\begin{matrix}0.0758 & 0.1137 & 0.1706 & 0.2559 & 0.3839\\\\0.0758 & 0.1137 & 0.1706 & 0.2559 & 0.3839\\\\0.0758 & 0.1137 & 0.1706 & 0.2559 & 0.3839\\\\0.0758 & 0.1137 & 0.1706 & 0.2559 & 0.3839\\\\0.0758 & 0.1137 & 0.1706 & 0.2559 & 0.3839\\\\0.0758 & 0.1137 & 0.1706 & 0.2559 & 0.3839\\\\0.0758 & 0.1137 & 0.1706 & 0.2559 & 0.3839\\\\0.0758 & 0.1137 & 0.1706 & 0.2559 & 0.3839\\\\0.0758 & 0.1137 & 0.1706 & 0.2559 & 0.3839\\\\0.0758 & 0.1137 & 0.1706 & 0.2559 & 0.3839\\\\0.0758 & 0.1137 & 0.1706 & 0.2559 & 0.3839\\\\0.0758 & 0.1137 & 0.1706 & 0.2559 & 0.3839\\\\0.0758 & 0.1137 & 0.1706 & 0.2559 & 0.3839\\\\0.0758 & 0.1137 & 0.1706 & 0.2559 & 0.3839\\\\0.0758 & 0.1137 & 0.1706 & 0.2559 & 0.3839\\end{matrix}\\right]$ "
      ],
      "text/plain": [
       "<IPython.core.display.Latex object>"
      ]
     },
     "metadata": {},
     "output_type": "display_data"
    },
    {
     "data": {
      "text/latex": [
       "The average of these distributions is  $\\left[\\begin{matrix}0.0758 & 0.1137 & 0.1706 & 0.2559 & 0.3839\\end{matrix}\\right]$ "
      ],
      "text/plain": [
       "<IPython.core.display.Latex object>"
      ]
     },
     "metadata": {},
     "output_type": "display_data"
    },
    {
     "name": "stdout",
     "output_type": "stream",
     "text": [
      "\n",
      "\n"
     ]
    },
    {
     "data": {
      "text/latex": [
       "Method 3: Using eigenvectors and eigenvalues to find long term behavior."
      ],
      "text/plain": [
       "<IPython.core.display.Latex object>"
      ]
     },
     "metadata": {},
     "output_type": "display_data"
    },
    {
     "data": {
      "text/latex": [
       "left eigenvectors = rows of  $\\left[\\begin{matrix}0.0758 & 0.1137 & 0.1706 & 0.2559 & 0.3839\\\\1.0 & 0.9817 & 0.4454 & -0.5899 & -1.8371\\\\1.0 & -2.9817 & 4.4087 & -4.2642 & 1.8371\\\\1.0 & -0.2431 & -1.684 & -0.9101 & 1.8371\\\\1.0 & -1.7569 & -0.1701 & 2.7642 & -1.8371\\end{matrix}\\right]$ , $\\lambda =$ $\\left[\\begin{matrix}1.0\\\\0.7927\\\\-0.7927\\\\0.3028\\\\-0.3028\\end{matrix}\\right]$ , $|\\lambda| =$ $\\left[\\begin{matrix}1.0\\\\0.7927\\\\0.7927\\\\0.3028\\\\0.3028\\end{matrix}\\right]$ "
      ],
      "text/plain": [
       "<IPython.core.display.Latex object>"
      ]
     },
     "metadata": {},
     "output_type": "display_data"
    },
    {
     "data": {
      "text/latex": [
       "The analysis via eigenvectors says that, in the long run, this system should land in the distribution below (If more than one row, the system will land in only one)."
      ],
      "text/plain": [
       "<IPython.core.display.Latex object>"
      ]
     },
     "metadata": {},
     "output_type": "display_data"
    },
    {
     "data": {
      "text/latex": [
       " $\\left[\\begin{matrix}0.0758 & 0.1137 & 0.1706 & 0.2559 & 0.3839\\end{matrix}\\right]$ "
      ],
      "text/plain": [
       "<IPython.core.display.Latex object>"
      ]
     },
     "metadata": {},
     "output_type": "display_data"
    },
    {
     "data": {
      "text/latex": [
       "The average of these distributions is  $\\left[\\begin{matrix}0.0758 & 0.1137 & 0.1706 & 0.2559 & 0.3839\\end{matrix}\\right]$ "
      ],
      "text/plain": [
       "<IPython.core.display.Latex object>"
      ]
     },
     "metadata": {},
     "output_type": "display_data"
    },
    {
     "name": "stdout",
     "output_type": "stream",
     "text": [
      "\n"
     ]
    }
   ],
   "source": [
    "\"\"\"Create a 5x5 matrix that is a biased, non-lazy random walk for boundary condition absorbing\"\"\"\n",
    "States =5\n",
    "p = 0.6\n",
    "q = 1-p\n",
    "phi = np.array([0,0,1,0,0]) #initial distribution\n",
    "P_absorb = np.array([[1,0,0,0,0],[q,0,p,0,0],[0,q,0,p,0],[0,0,q,0,p],[0,0,0,0,1]])\n",
    "\n",
    "\n",
    "Steps = 1000\n",
    "Records = 15\n",
    "Samples = 1000\n",
    "\n",
    "printltx(\"Below are examples using an Absorbing Boundary Condition\")\n",
    "simulate_samples(P_absorb, phi, Steps, Records, Samples)\n",
    "matrix_evolution(P_absorb, phi, Steps, Records)\n",
    "eigen_future(P_absorb, phi)\n",
    "\n",
    "\n",
    "\n",
    "#Now make the boundary condition be reflecting\n",
    "P_reflect = np.array([[0,1,0,0,0],[q,0,p,0,0],[0,q,0,p,0],[0,0,q,0,p],[0,0,0,1,0]])\n",
    "\n",
    "printltx(\"Below are examples using a Reflecting Boundary Condition\")\n",
    "simulate_samples(P_reflect, phi, Steps, Records, Samples)\n",
    "matrix_evolution(P_reflect, phi, Steps, Records)\n",
    "eigen_future(P_reflect, phi)\n",
    "\n",
    "\n",
    "\n",
    "\n",
    "#Now make the boundary semi-reflecting:\n",
    "P_semi = np.array([[q,p,0,0,0],[q,0,p,0,0],[0,q,0,p,0],[0,0,q,0,p],[0,0,0,q,p]])\n",
    "printltx(\"Below are examples using a Semi-Reflecting Boundary Condition\")\n",
    "simulate_samples(P_semi, phi, Steps, Records, Samples)\n",
    "matrix_evolution(P_semi, phi, Steps, Records)\n",
    "eigen_future(P_semi, phi)\n",
    "\n",
    "print\n",
    "             \n",
    "            \n"
   ]
  },
  {
   "cell_type": "code",
   "execution_count": null,
   "metadata": {
    "collapsed": true
   },
   "outputs": [],
   "source": []
  }
 ],
 "metadata": {
  "kernelspec": {
   "display_name": "Python 2 (SageMath)",
   "language": "python",
   "name": "python2"
  },
  "language_info": {
   "codemirror_mode": {
    "name": "ipython",
    "version": 2
   },
   "file_extension": ".py",
   "mimetype": "text/x-python",
   "name": "python",
   "nbconvert_exporter": "python",
   "pygments_lexer": "ipython2",
   "version": "2.7.10"
  }
 },
 "nbformat": 4,
 "nbformat_minor": 0
}
